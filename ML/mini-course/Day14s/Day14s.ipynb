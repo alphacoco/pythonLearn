{
 "metadata": {
  "name": ""
 },
 "nbformat": 3,
 "nbformat_minor": 0,
 "worksheets": [
  {
   "cells": [
    {
     "cell_type": "heading",
     "level": 2,
     "metadata": {},
     "source": [
      "Day1:Install Python and Scipy Ecosystem"
     ]
    },
    {
     "cell_type": "code",
     "collapsed": false,
     "input": [
      "import sys\n",
      "print('Python: {}'.format(sys.version))"
     ],
     "language": "python",
     "metadata": {},
     "outputs": [
      {
       "output_type": "stream",
       "stream": "stdout",
       "text": [
        "Python: 3.4.3 (default, Sep 14 2016, 12:36:27) \n",
        "[GCC 4.8.4]\n"
       ]
      }
     ],
     "prompt_number": 1
    },
    {
     "cell_type": "code",
     "collapsed": false,
     "input": [
      "import scipy\n",
      "print('scipy: {}'.format(scipy.__version__))"
     ],
     "language": "python",
     "metadata": {},
     "outputs": [
      {
       "output_type": "stream",
       "stream": "stdout",
       "text": [
        "scipy: 0.13.3\n"
       ]
      }
     ],
     "prompt_number": 2
    },
    {
     "cell_type": "code",
     "collapsed": false,
     "input": [
      "import numpy\n",
      "print('numpu: {}'.format(numpy.__version__))"
     ],
     "language": "python",
     "metadata": {},
     "outputs": [
      {
       "output_type": "stream",
       "stream": "stdout",
       "text": [
        "numpu: 1.8.2\n"
       ]
      }
     ],
     "prompt_number": 3
    },
    {
     "cell_type": "code",
     "collapsed": false,
     "input": [
      "import matplotlib\n",
      "print('matplotlib: {}'.format(matplotlib.__version__))"
     ],
     "language": "python",
     "metadata": {},
     "outputs": [
      {
       "output_type": "stream",
       "stream": "stdout",
       "text": [
        "matplotlib: 1.3.1\n"
       ]
      }
     ],
     "prompt_number": 4
    },
    {
     "cell_type": "code",
     "collapsed": false,
     "input": [
      "import pandas\n",
      "print('pandas: {}'.format(pandas.__version__))"
     ],
     "language": "python",
     "metadata": {},
     "outputs": [
      {
       "output_type": "stream",
       "stream": "stdout",
       "text": [
        "pandas: 0.13.1\n"
       ]
      }
     ],
     "prompt_number": 5
    },
    {
     "cell_type": "code",
     "collapsed": false,
     "input": [
      "import sklearn\n",
      "print('sklearn: {}'.format(sklearn.__version__))"
     ],
     "language": "python",
     "metadata": {},
     "outputs": [
      {
       "output_type": "stream",
       "stream": "stdout",
       "text": [
        "sklearn: 0.18\n"
       ]
      }
     ],
     "prompt_number": 6
    },
    {
     "cell_type": "heading",
     "level": 2,
     "metadata": {},
     "source": [
      "Day2: Creating a Pandas DataFrame"
     ]
    },
    {
     "cell_type": "code",
     "collapsed": false,
     "input": [
      "import numpy\n",
      "import pandas\n",
      "\n",
      "myArray = numpy.array([[1, 2, 3], [4, 5, 6]])\n",
      "rownames = ['a', 'b']\n",
      "colnames = ['one', 'two', 'three']\n",
      "myDataFrame = pandas.DataFrame(myArray, index = rownames, columns = colnames)\n",
      "\n",
      "print(myDataFrame)"
     ],
     "language": "python",
     "metadata": {},
     "outputs": [
      {
       "output_type": "stream",
       "stream": "stdout",
       "text": [
        "   one  two  three\n",
        "a    1    2      3\n",
        "b    4    5      6\n",
        "\n",
        "[2 rows x 3 columns]\n"
       ]
      }
     ],
     "prompt_number": 11
    },
    {
     "cell_type": "heading",
     "level": 2,
     "metadata": {},
     "source": [
      "Day3: Load Data From CSV"
     ]
    },
    {
     "cell_type": "code",
     "collapsed": false,
     "input": [
      "import pandas as pd\n",
      "\n",
      "url = \"https://raw.githubusercontent.com/alphacoco/pythonLearn/master/DataSet/Days14/Day14s.csv\"\n",
      "myNames = ['preg', 'plas', 'pres', 'skin', 'test', 'mass', 'pedi', 'age', 'class']\n",
      "data = pd.read_csv(url, names = myNames)\n",
      "\n",
      "print(data.shape)"
     ],
     "language": "python",
     "metadata": {},
     "outputs": [
      {
       "output_type": "stream",
       "stream": "stdout",
       "text": [
        "(768, 9)\n"
       ]
      }
     ],
     "prompt_number": 8
    },
    {
     "cell_type": "heading",
     "level": 2,
     "metadata": {},
     "source": [
      "Day4: Understand Data with Descriptive Statistics"
     ]
    },
    {
     "cell_type": "code",
     "collapsed": false,
     "input": [
      "import pandas as pd\n",
      "\n",
      "url = \"https://raw.githubusercontent.com/alphacoco/pythonLearn/master/DataSet/Days14/Day14s.csv\"\n",
      "myNames = ['preg', 'plas', 'pres', 'skin', 'test', 'mass', 'pedi', 'age', 'class']\n",
      "data = pd.read_csv(url, names = myNames)\n",
      "description = data.describe()\n",
      "\n",
      "print(description)"
     ],
     "language": "python",
     "metadata": {},
     "outputs": [
      {
       "output_type": "stream",
       "stream": "stdout",
       "text": [
        "             preg        plas        pres        skin        test        mass  \\\n",
        "count  768.000000  768.000000  768.000000  768.000000  768.000000  768.000000   \n",
        "mean     3.845052  120.894531   69.105469   20.536458   79.799479   31.992578   \n",
        "std      3.369578   31.972618   19.355807   15.952218  115.244002    7.884160   \n",
        "min      0.000000    0.000000    0.000000    0.000000    0.000000    0.000000   \n",
        "25%      1.000000   99.000000   62.000000    0.000000    0.000000   27.300000   \n",
        "50%      3.000000  117.000000   72.000000   23.000000   30.500000   32.000000   \n",
        "75%      6.000000  140.250000   80.000000   32.000000  127.250000   36.600000   \n",
        "max     17.000000  199.000000  122.000000   99.000000  846.000000   67.100000   \n",
        "\n",
        "             pedi         age       class  \n",
        "count  768.000000  768.000000  768.000000  \n",
        "mean     0.471876   33.240885    0.348958  \n",
        "std      0.331329   11.760232    0.476951  \n",
        "min      0.078000   21.000000    0.000000  \n",
        "25%      0.243750   24.000000    0.000000  \n",
        "50%      0.372500   29.000000    0.000000  \n",
        "75%      0.626250   41.000000    1.000000  \n",
        "max      2.420000   81.000000    1.000000  \n",
        "\n",
        "[8 rows x 9 columns]\n"
       ]
      }
     ],
     "prompt_number": 9
    },
    {
     "cell_type": "heading",
     "level": 2,
     "metadata": {},
     "source": [
      "Day5: Understand Data with Visualization"
     ]
    },
    {
     "cell_type": "code",
     "collapsed": false,
     "input": [
      "# Scatter Plot Matrix\n",
      "\n",
      "import matplotlib.pyplot as plt\n",
      "import pandas as pd\n",
      "from pandas.tools.plotting import scatter_matrix\n",
      "\n",
      "url = \"https://raw.githubusercontent.com/alphacoco/pythonLearn/master/DataSet/Days14/Day14s.csv\"\n",
      "myNames = ['preg', 'plas', 'pres', 'skin', 'test', 'mass', 'pedi', 'age', 'class']\n",
      "data = pd.read_csv(url, names = myNames)\n",
      "scatter_matrix(data)\n",
      "\n",
      "plt.show()"
     ],
     "language": "python",
     "metadata": {},
     "outputs": [],
     "prompt_number": 10
    },
    {
     "cell_type": "markdown",
     "metadata": {},
     "source": [
      "![day5](https://github.com/alphacoco/pythonLearn/blob/master/DataSet/Days14/Day5.png?raw=true)"
     ]
    },
    {
     "cell_type": "heading",
     "level": 2,
     "metadata": {},
     "source": [
      "Days6: Pre-Processing Data (Standardize a Dataset)"
     ]
    },
    {
     "cell_type": "code",
     "collapsed": false,
     "input": [],
     "language": "python",
     "metadata": {},
     "outputs": []
    }
   ],
   "metadata": {}
  }
 ]
}