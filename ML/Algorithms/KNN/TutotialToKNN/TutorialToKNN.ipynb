{
 "metadata": {
  "name": ""
 },
 "nbformat": 3,
 "nbformat_minor": 0,
 "worksheets": [
  {
   "cells": [
    {
     "cell_type": "markdown",
     "metadata": {},
     "source": [
      "# KNN\n",
      "- Handle Data\n",
      "- Similarity\n",
      "- Neighbors\n",
      "- Response\n",
      "- Accuracy\n",
      "- Main"
     ]
    },
    {
     "cell_type": "markdown",
     "metadata": {},
     "source": [
      "## 1, Handle Data"
     ]
    },
    {
     "cell_type": "code",
     "collapsed": false,
     "input": [
      "import csv\n",
      "with open('iris.data', 'r') as csvfile:\n",
      "    lines = csv.reader(csvfile)\n",
      "    for row in lines:\n",
      "        print(', '.join(row))"
     ],
     "language": "python",
     "metadata": {},
     "outputs": [
      {
       "output_type": "stream",
       "stream": "stdout",
       "text": [
        "5.1, 3.5, 1.4, 0.2, Iris-setosa\n",
        "4.9, 3.0, 1.4, 0.2, Iris-setosa\n",
        "4.7, 3.2, 1.3, 0.2, Iris-setosa\n",
        "4.6, 3.1, 1.5, 0.2, Iris-setosa\n",
        "5.0, 3.6, 1.4, 0.2, Iris-setosa\n",
        "5.4, 3.9, 1.7, 0.4, Iris-setosa\n",
        "4.6, 3.4, 1.4, 0.3, Iris-setosa\n",
        "5.0, 3.4, 1.5, 0.2, Iris-setosa\n",
        "4.4, 2.9, 1.4, 0.2, Iris-setosa\n",
        "4.9, 3.1, 1.5, 0.1, Iris-setosa\n",
        "5.4, 3.7, 1.5, 0.2, Iris-setosa\n",
        "4.8, 3.4, 1.6, 0.2, Iris-setosa\n",
        "4.8, 3.0, 1.4, 0.1, Iris-setosa\n",
        "4.3, 3.0, 1.1, 0.1, Iris-setosa\n",
        "5.8, 4.0, 1.2, 0.2, Iris-setosa\n",
        "5.7, 4.4, 1.5, 0.4, Iris-setosa\n",
        "5.4, 3.9, 1.3, 0.4, Iris-setosa\n",
        "5.1, 3.5, 1.4, 0.3, Iris-setosa\n",
        "5.7, 3.8, 1.7, 0.3, Iris-setosa\n",
        "5.1, 3.8, 1.5, 0.3, Iris-setosa\n",
        "5.4, 3.4, 1.7, 0.2, Iris-setosa\n",
        "5.1, 3.7, 1.5, 0.4, Iris-setosa\n",
        "4.6, 3.6, 1.0, 0.2, Iris-setosa\n",
        "5.1, 3.3, 1.7, 0.5, Iris-setosa\n",
        "4.8, 3.4, 1.9, 0.2, Iris-setosa\n",
        "5.0, 3.0, 1.6, 0.2, Iris-setosa\n",
        "5.0, 3.4, 1.6, 0.4, Iris-setosa\n",
        "5.2, 3.5, 1.5, 0.2, Iris-setosa\n",
        "5.2, 3.4, 1.4, 0.2, Iris-setosa\n",
        "4.7, 3.2, 1.6, 0.2, Iris-setosa\n",
        "4.8, 3.1, 1.6, 0.2, Iris-setosa\n",
        "5.4, 3.4, 1.5, 0.4, Iris-setosa\n",
        "5.2, 4.1, 1.5, 0.1, Iris-setosa\n",
        "5.5, 4.2, 1.4, 0.2, Iris-setosa\n",
        "4.9, 3.1, 1.5, 0.1, Iris-setosa\n",
        "5.0, 3.2, 1.2, 0.2, Iris-setosa\n",
        "5.5, 3.5, 1.3, 0.2, Iris-setosa\n",
        "4.9, 3.1, 1.5, 0.1, Iris-setosa\n",
        "4.4, 3.0, 1.3, 0.2, Iris-setosa\n",
        "5.1, 3.4, 1.5, 0.2, Iris-setosa\n",
        "5.0, 3.5, 1.3, 0.3, Iris-setosa\n",
        "4.5, 2.3, 1.3, 0.3, Iris-setosa\n",
        "4.4, 3.2, 1.3, 0.2, Iris-setosa\n",
        "5.0, 3.5, 1.6, 0.6, Iris-setosa\n",
        "5.1, 3.8, 1.9, 0.4, Iris-setosa\n",
        "4.8, 3.0, 1.4, 0.3, Iris-setosa\n",
        "5.1, 3.8, 1.6, 0.2, Iris-setosa\n",
        "4.6, 3.2, 1.4, 0.2, Iris-setosa\n",
        "5.3, 3.7, 1.5, 0.2, Iris-setosa\n",
        "5.0, 3.3, 1.4, 0.2, Iris-setosa\n",
        "7.0, 3.2, 4.7, 1.4, Iris-versicolor\n",
        "6.4, 3.2, 4.5, 1.5, Iris-versicolor\n",
        "6.9, 3.1, 4.9, 1.5, Iris-versicolor\n",
        "5.5, 2.3, 4.0, 1.3, Iris-versicolor\n",
        "6.5, 2.8, 4.6, 1.5, Iris-versicolor\n",
        "5.7, 2.8, 4.5, 1.3, Iris-versicolor\n",
        "6.3, 3.3, 4.7, 1.6, Iris-versicolor\n",
        "4.9, 2.4, 3.3, 1.0, Iris-versicolor\n",
        "6.6, 2.9, 4.6, 1.3, Iris-versicolor\n",
        "5.2, 2.7, 3.9, 1.4, Iris-versicolor\n",
        "5.0, 2.0, 3.5, 1.0, Iris-versicolor\n",
        "5.9, 3.0, 4.2, 1.5, Iris-versicolor\n",
        "6.0, 2.2, 4.0, 1.0, Iris-versicolor\n",
        "6.1, 2.9, 4.7, 1.4, Iris-versicolor\n",
        "5.6, 2.9, 3.6, 1.3, Iris-versicolor\n",
        "6.7, 3.1, 4.4, 1.4, Iris-versicolor\n",
        "5.6, 3.0, 4.5, 1.5, Iris-versicolor\n",
        "5.8, 2.7, 4.1, 1.0, Iris-versicolor\n",
        "6.2, 2.2, 4.5, 1.5, Iris-versicolor\n",
        "5.6, 2.5, 3.9, 1.1, Iris-versicolor\n",
        "5.9, 3.2, 4.8, 1.8, Iris-versicolor\n",
        "6.1, 2.8, 4.0, 1.3, Iris-versicolor\n",
        "6.3, 2.5, 4.9, 1.5, Iris-versicolor\n",
        "6.1, 2.8, 4.7, 1.2, Iris-versicolor\n",
        "6.4, 2.9, 4.3, 1.3, Iris-versicolor\n",
        "6.6, 3.0, 4.4, 1.4, Iris-versicolor\n",
        "6.8, 2.8, 4.8, 1.4, Iris-versicolor\n",
        "6.7, 3.0, 5.0, 1.7, Iris-versicolor\n",
        "6.0, 2.9, 4.5, 1.5, Iris-versicolor\n",
        "5.7, 2.6, 3.5, 1.0, Iris-versicolor\n",
        "5.5, 2.4, 3.8, 1.1, Iris-versicolor\n",
        "5.5, 2.4, 3.7, 1.0, Iris-versicolor\n",
        "5.8, 2.7, 3.9, 1.2, Iris-versicolor\n",
        "6.0, 2.7, 5.1, 1.6, Iris-versicolor\n",
        "5.4, 3.0, 4.5, 1.5, Iris-versicolor\n",
        "6.0, 3.4, 4.5, 1.6, Iris-versicolor\n",
        "6.7, 3.1, 4.7, 1.5, Iris-versicolor\n",
        "6.3, 2.3, 4.4, 1.3, Iris-versicolor\n",
        "5.6, 3.0, 4.1, 1.3, Iris-versicolor\n",
        "5.5, 2.5, 4.0, 1.3, Iris-versicolor\n",
        "5.5, 2.6, 4.4, 1.2, Iris-versicolor\n",
        "6.1, 3.0, 4.6, 1.4, Iris-versicolor\n",
        "5.8, 2.6, 4.0, 1.2, Iris-versicolor\n",
        "5.0, 2.3, 3.3, 1.0, Iris-versicolor\n",
        "5.6, 2.7, 4.2, 1.3, Iris-versicolor\n",
        "5.7, 3.0, 4.2, 1.2, Iris-versicolor\n",
        "5.7, 2.9, 4.2, 1.3, Iris-versicolor\n",
        "6.2, 2.9, 4.3, 1.3, Iris-versicolor\n",
        "5.1, 2.5, 3.0, 1.1, Iris-versicolor\n",
        "5.7, 2.8, 4.1, 1.3, Iris-versicolor\n",
        "6.3, 3.3, 6.0, 2.5, Iris-virginica\n",
        "5.8, 2.7, 5.1, 1.9, Iris-virginica\n",
        "7.1, 3.0, 5.9, 2.1, Iris-virginica\n",
        "6.3, 2.9, 5.6, 1.8, Iris-virginica\n",
        "6.5, 3.0, 5.8, 2.2, Iris-virginica\n",
        "7.6, 3.0, 6.6, 2.1, Iris-virginica\n",
        "4.9, 2.5, 4.5, 1.7, Iris-virginica\n",
        "7.3, 2.9, 6.3, 1.8, Iris-virginica\n",
        "6.7, 2.5, 5.8, 1.8, Iris-virginica\n",
        "7.2, 3.6, 6.1, 2.5, Iris-virginica\n",
        "6.5, 3.2, 5.1, 2.0, Iris-virginica\n",
        "6.4, 2.7, 5.3, 1.9, Iris-virginica\n",
        "6.8, 3.0, 5.5, 2.1, Iris-virginica\n",
        "5.7, 2.5, 5.0, 2.0, Iris-virginica\n",
        "5.8, 2.8, 5.1, 2.4, Iris-virginica\n",
        "6.4, 3.2, 5.3, 2.3, Iris-virginica\n",
        "6.5, 3.0, 5.5, 1.8, Iris-virginica\n",
        "7.7, 3.8, 6.7, 2.2, Iris-virginica\n",
        "7.7, 2.6, 6.9, 2.3, Iris-virginica\n",
        "6.0, 2.2, 5.0, 1.5, Iris-virginica\n",
        "6.9, 3.2, 5.7, 2.3, Iris-virginica\n",
        "5.6, 2.8, 4.9, 2.0, Iris-virginica\n",
        "7.7, 2.8, 6.7, 2.0, Iris-virginica\n",
        "6.3, 2.7, 4.9, 1.8, Iris-virginica\n",
        "6.7, 3.3, 5.7, 2.1, Iris-virginica\n",
        "7.2, 3.2, 6.0, 1.8, Iris-virginica\n",
        "6.2, 2.8, 4.8, 1.8, Iris-virginica\n",
        "6.1, 3.0, 4.9, 1.8, Iris-virginica\n",
        "6.4, 2.8, 5.6, 2.1, Iris-virginica\n",
        "7.2, 3.0, 5.8, 1.6, Iris-virginica\n",
        "7.4, 2.8, 6.1, 1.9, Iris-virginica\n",
        "7.9, 3.8, 6.4, 2.0, Iris-virginica\n",
        "6.4, 2.8, 5.6, 2.2, Iris-virginica\n",
        "6.3, 2.8, 5.1, 1.5, Iris-virginica\n",
        "6.1, 2.6, 5.6, 1.4, Iris-virginica\n",
        "7.7, 3.0, 6.1, 2.3, Iris-virginica\n",
        "6.3, 3.4, 5.6, 2.4, Iris-virginica\n",
        "6.4, 3.1, 5.5, 1.8, Iris-virginica\n",
        "6.0, 3.0, 4.8, 1.8, Iris-virginica\n",
        "6.9, 3.1, 5.4, 2.1, Iris-virginica\n",
        "6.7, 3.1, 5.6, 2.4, Iris-virginica\n",
        "6.9, 3.1, 5.1, 2.3, Iris-virginica\n",
        "5.8, 2.7, 5.1, 1.9, Iris-virginica\n",
        "6.8, 3.2, 5.9, 2.3, Iris-virginica\n",
        "6.7, 3.3, 5.7, 2.5, Iris-virginica\n",
        "6.7, 3.0, 5.2, 2.3, Iris-virginica\n",
        "6.3, 2.5, 5.0, 1.9, Iris-virginica\n",
        "6.5, 3.0, 5.2, 2.0, Iris-virginica\n",
        "6.2, 3.4, 5.4, 2.3, Iris-virginica\n",
        "5.9, 3.0, 5.1, 1.8, Iris-virginica\n",
        "\n"
       ]
      }
     ],
     "prompt_number": 19
    },
    {
     "cell_type": "code",
     "collapsed": false,
     "input": [
      "# define loadDataset function\n",
      "import csv\n",
      "import random\n",
      "\n",
      "def loadDataset(filename, split, trainingSet = [], testSet = []):\n",
      "    with open(filename, 'r') as csvfile:\n",
      "        lines = csv.reader(csvfile)\n",
      "        dataset = list(lines)\n",
      "        for i in range(len(dataset) - 1):\n",
      "            for j in range(4):\n",
      "                dataset[i][j] = float(dataset[i][j])\n",
      "            if random.random() < split:\n",
      "                trainingSet.append(dataset[i])\n",
      "            else:\n",
      "                testSet.append(dataset[i])\n",
      "\n",
      "# test this function\n",
      "trainingSet = []\n",
      "testSet = []\n",
      "loadDataset('iris.data', 0.67, trainingSet, testSet)\n",
      "print('Train Set: ' + repr(len(trainingSet)))\n",
      "print('Test Set: ' + repr(len(testSet)))"
     ],
     "language": "python",
     "metadata": {},
     "outputs": [
      {
       "output_type": "stream",
       "stream": "stdout",
       "text": [
        "Train Set: 105\n",
        "Test Set: 45\n"
       ]
      }
     ],
     "prompt_number": 50
    },
    {
     "cell_type": "heading",
     "level": 2,
     "metadata": {},
     "source": [
      "2, Similarity"
     ]
    },
    {
     "cell_type": "code",
     "collapsed": false,
     "input": [
      "# define euclideanDistance function\n",
      "from math import sqrt\n",
      "def euclideanDistance(instance1, instance2, length):\n",
      "    distance = 0\n",
      "    for i in range(length):\n",
      "        distance += pow((instance1[i] - instance2[i]), 2)\n",
      "    return sqrt(distance)\n",
      "\n",
      "# test this function\n",
      "data1 = [2, 2, 2, 'a']\n",
      "data2 = [4, 4, 4, 'b']\n",
      "distance = euclideanDistance(data1, data2, 3)\n",
      "print('Distance: ' + repr(distance))"
     ],
     "language": "python",
     "metadata": {},
     "outputs": [
      {
       "output_type": "stream",
       "stream": "stdout",
       "text": [
        "Distance: 3.4641016151377544\n"
       ]
      }
     ],
     "prompt_number": 48
    },
    {
     "cell_type": "heading",
     "level": 2,
     "metadata": {},
     "source": [
      "3, Neighbors"
     ]
    },
    {
     "cell_type": "code",
     "collapsed": false,
     "input": [
      "# define getNeighbors function\n",
      "import operator\n",
      "def getNeighbors(trainingSet, testInstance, k):\n",
      "    distances = []\n",
      "    length = len(testInstance) - 1\n",
      "    for i in range(len(trainingSet)):\n",
      "        dist = euclideanDistance(testInstance, trainingSet[i], length)\n",
      "        distances.append((trainingSet[i], dist))\n",
      "    distances.sort(key = operator.itemgetter(1))\n",
      "    neighbors = []\n",
      "    for i in range(k):\n",
      "        neighbors.append(distances[i][0])\n",
      "    return neighbors\n",
      "\n",
      "# test this function\n",
      "trainSet = [[2, 2, 2, 'a'], [4, 4, 4, 'b']]\n",
      "testInstance = [5, 5, 5]\n",
      "k = 1\n",
      "neighbors = getNeighbors(trainSet, testInstance, k)\n",
      "print(neighbors)"
     ],
     "language": "python",
     "metadata": {},
     "outputs": [
      {
       "output_type": "stream",
       "stream": "stdout",
       "text": [
        "[[4, 4, 4, 'b']]\n"
       ]
      }
     ],
     "prompt_number": 56
    },
    {
     "cell_type": "heading",
     "level": 2,
     "metadata": {},
     "source": [
      "4, Response"
     ]
    },
    {
     "cell_type": "code",
     "collapsed": false,
     "input": [
      "# define getResponse function, class type(which)\n",
      "import operator\n",
      "def getResponse(neighbors):\n",
      "    classVotes = {}\n",
      "    for i in range(len(neighbors)):\n",
      "        response = neighbors[i][-1]\n",
      "        if response in classVotes:\n",
      "            classVotes[response] += 1\n",
      "        else:\n",
      "            classVotes[response] = 1\n",
      "    sortedVotes = sorted(classVotes.items(), key = operator.itemgetter(1), reverse = True)\n",
      "    return sortedVotes[0][0]\n",
      "\n",
      "# test it\n",
      "neighbors = [[1, 1, 1, 'a'], [2, 2, 2, 'a'], [3, 3, 3, 'b']]\n",
      "response = getResponse(neighbors)\n",
      "print(response)"
     ],
     "language": "python",
     "metadata": {},
     "outputs": [
      {
       "output_type": "stream",
       "stream": "stdout",
       "text": [
        "a\n"
       ]
      }
     ],
     "prompt_number": 62
    },
    {
     "cell_type": "heading",
     "level": 2,
     "metadata": {},
     "source": [
      "5, Accuracy"
     ]
    },
    {
     "cell_type": "code",
     "collapsed": false,
     "input": [
      "# define getAccuracy function that sums the total correct predictions and return the accuracy as a pencentage of correct classification.\n",
      "def getAccuracy(testSet, predicitions):\n",
      "    correct = 0\n",
      "    for i in range(len(testSet)):\n",
      "        if testSet[i][-1] is predictions[i]:\n",
      "            correct += 1\n",
      "    return (correct/len(testSet)) * 100\n",
      "\n",
      "# test it\n",
      "testSet = [[1, 1, 1, 'a'], [2, 2, 2, 'b'], [3, 3, 3, 'a']]\n",
      "predictions = ['a', 'a' ,'a']\n",
      "accuracy = getAccuracy(testSet, predictions)\n",
      "print(accuracy)"
     ],
     "language": "python",
     "metadata": {},
     "outputs": [
      {
       "output_type": "stream",
       "stream": "stdout",
       "text": [
        "66.66666666666666\n"
       ]
      }
     ],
     "prompt_number": 64
    },
    {
     "cell_type": "heading",
     "level": 2,
     "metadata": {},
     "source": [
      "6, Main"
     ]
    },
    {
     "cell_type": "code",
     "collapsed": false,
     "input": [
      "# Example of kNN implemented from Scratch in Python\n",
      "\n",
      "import csv\n",
      "import random\n",
      "import math\n",
      "import operator\n",
      "\n",
      "def loadDataset(filename, split, trainingSet=[] , testSet=[]):\n",
      "\twith open(filename, 'r') as csvfile:\n",
      "\t    lines = csv.reader(csvfile)\n",
      "\t    dataset = list(lines)\n",
      "\t    for x in range(len(dataset)-1):\n",
      "\t        for y in range(4):\n",
      "\t            dataset[x][y] = float(dataset[x][y])\n",
      "\t        if random.random() < split:\n",
      "\t            trainingSet.append(dataset[x])\n",
      "\t        else:\n",
      "\t            testSet.append(dataset[x])\n",
      "\n",
      "\n",
      "def euclideanDistance(instance1, instance2, length):\n",
      "\tdistance = 0\n",
      "\tfor x in range(length):\n",
      "\t\tdistance += pow((instance1[x] - instance2[x]), 2)\n",
      "\treturn math.sqrt(distance)\n",
      "\n",
      "def getNeighbors(trainingSet, testInstance, k):\n",
      "\tdistances = []\n",
      "\tlength = len(testInstance)-1\n",
      "\tfor x in range(len(trainingSet)):\n",
      "\t\tdist = euclideanDistance(testInstance, trainingSet[x], length)\n",
      "\t\tdistances.append((trainingSet[x], dist))\n",
      "\tdistances.sort(key=operator.itemgetter(1))\n",
      "\tneighbors = []\n",
      "\tfor x in range(k):\n",
      "\t\tneighbors.append(distances[x][0])\n",
      "\treturn neighbors\n",
      "\n",
      "def getResponse(neighbors):\n",
      "\tclassVotes = {}\n",
      "\tfor x in range(len(neighbors)):\n",
      "\t\tresponse = neighbors[x][-1]\n",
      "\t\tif response in classVotes:\n",
      "\t\t\tclassVotes[response] += 1\n",
      "\t\telse:\n",
      "\t\t\tclassVotes[response] = 1\n",
      "\tsortedVotes = sorted(classVotes.items(), key=operator.itemgetter(1), reverse=True)\n",
      "\treturn sortedVotes[0][0]\n",
      "\n",
      "def getAccuracy(testSet, predictions):\n",
      "\tcorrect = 0\n",
      "\tfor x in range(len(testSet)):\n",
      "\t\tif testSet[x][-1] == predictions[x]:\n",
      "\t\t\tcorrect += 1\n",
      "\treturn (correct/float(len(testSet))) * 100.0\n",
      "\t\n",
      "def main():\n",
      "\t# prepare data\n",
      "\ttrainingSet=[]\n",
      "\ttestSet=[]\n",
      "\tsplit = 0.67\n",
      "\tloadDataset('iris.data', split, trainingSet, testSet)\n",
      "\tprint('Train set: ' + repr(len(trainingSet)))\n",
      "\tprint('Test set: ' + repr(len(testSet)))\n",
      "\t# generate predictions\n",
      "\tpredictions=[]\n",
      "\tk = 3\n",
      "\tfor x in range(len(testSet)):\n",
      "\t\tneighbors = getNeighbors(trainingSet, testSet[x], k)\n",
      "\t\tresult = getResponse(neighbors)\n",
      "\t\tpredictions.append(result)\n",
      "\t\tprint('> predicted=' + repr(result) + ', actual=' + repr(testSet[x][-1]))\n",
      "\taccuracy = getAccuracy(testSet, predictions)\n",
      "\tprint('Accuracy: ' + repr(accuracy) + '%')\n",
      "\t\n",
      "main()\n",
      "    "
     ],
     "language": "python",
     "metadata": {},
     "outputs": [
      {
       "output_type": "stream",
       "stream": "stdout",
       "text": [
        "Train set: 99\n",
        "Test set: 51\n",
        "> predicted='Iris-setosa', actual='Iris-setosa'\n",
        "> predicted='Iris-setosa', actual='Iris-setosa'\n",
        "> predicted='Iris-setosa', actual='Iris-setosa'\n",
        "> predicted='Iris-setosa', actual='Iris-setosa'\n",
        "> predicted='Iris-setosa', actual='Iris-setosa'\n",
        "> predicted='Iris-setosa', actual='Iris-setosa'\n",
        "> predicted='Iris-setosa', actual='Iris-setosa'\n",
        "> predicted='Iris-setosa', actual='Iris-setosa'\n",
        "> predicted='Iris-setosa', actual='Iris-setosa'\n",
        "> predicted='Iris-setosa', actual='Iris-setosa'\n",
        "> predicted='Iris-setosa', actual='Iris-setosa'\n",
        "> predicted='Iris-setosa', actual='Iris-setosa'\n",
        "> predicted='Iris-setosa', actual='Iris-setosa'\n",
        "> predicted='Iris-setosa', actual='Iris-setosa'\n",
        "> predicted='Iris-setosa', actual='Iris-setosa'\n",
        "> predicted='Iris-versicolor', actual='Iris-versicolor'\n",
        "> predicted='Iris-versicolor', actual='Iris-versicolor'\n",
        "> predicted='Iris-versicolor', actual='Iris-versicolor'\n",
        "> predicted='Iris-versicolor', actual='Iris-versicolor'\n",
        "> predicted='Iris-versicolor', actual='Iris-versicolor'\n",
        "> predicted='Iris-versicolor', actual='Iris-versicolor'\n",
        "> predicted='Iris-versicolor', actual='Iris-versicolor'\n",
        "> predicted='Iris-virginica', actual='Iris-versicolor'\n",
        "> predicted='Iris-versicolor', actual='Iris-versicolor'\n",
        "> predicted='Iris-versicolor', actual='Iris-versicolor'\n",
        "> predicted='Iris-versicolor', actual='Iris-versicolor'\n",
        "> predicted='Iris-versicolor', actual='Iris-versicolor'\n",
        "> predicted='Iris-versicolor', actual='Iris-versicolor'\n",
        "> predicted='Iris-versicolor', actual='Iris-versicolor'\n",
        "> predicted='Iris-versicolor', actual='Iris-versicolor'\n",
        "> predicted='Iris-virginica', actual='Iris-virginica'\n",
        "> predicted='Iris-virginica', actual='Iris-virginica'\n",
        "> predicted='Iris-virginica', actual='Iris-virginica'\n",
        "> predicted='Iris-virginica', actual='Iris-virginica'\n",
        "> predicted='Iris-virginica', actual='Iris-virginica'\n",
        "> predicted='Iris-virginica', actual='Iris-virginica'\n",
        "> predicted='Iris-virginica', actual='Iris-virginica'\n",
        "> predicted='Iris-virginica', actual='Iris-virginica'\n",
        "> predicted='Iris-virginica', actual='Iris-virginica'\n",
        "> predicted='Iris-virginica', actual='Iris-virginica'\n",
        "> predicted='Iris-virginica', actual='Iris-virginica'\n",
        "> predicted='Iris-virginica', actual='Iris-virginica'\n",
        "> predicted='Iris-virginica', actual='Iris-virginica'\n",
        "> predicted='Iris-virginica', actual='Iris-virginica'\n",
        "> predicted='Iris-virginica', actual='Iris-virginica'\n",
        "> predicted='Iris-virginica', actual='Iris-virginica'\n",
        "> predicted='Iris-virginica', actual='Iris-virginica'\n",
        "> predicted='Iris-virginica', actual='Iris-virginica'\n",
        "> predicted='Iris-virginica', actual='Iris-virginica'\n",
        "> predicted='Iris-virginica', actual='Iris-virginica'\n",
        "> predicted='Iris-virginica', actual='Iris-virginica'\n",
        "Accuracy: 98.0392156862745%\n"
       ]
      }
     ],
     "prompt_number": 68
    },
    {
     "cell_type": "markdown",
     "metadata": {},
     "source": [
      "## Ideas For Extensions\n",
      "- Normalization:When the units of measure differ between attributes, it is possible for attributes to dominate in their contribution\n",
      "to the distance measure. For these types of problems, you will want to rescale all data attributes into the range 0-1 (call normalization) before calculating similarity. Update the model to support data normalization\n",
      "\n"
     ]
    },
    {
     "cell_type": "markdown",
     "metadata": {},
     "source": [
      "- Alternative Distance Measure: There are many distance measures available, and you can even develop your own domain-specific distance measures if you like. Implement an alternative distance measure, such as Manhattan distance or the vector dot product."
     ]
    }
   ],
   "metadata": {}
  }
 ]
}