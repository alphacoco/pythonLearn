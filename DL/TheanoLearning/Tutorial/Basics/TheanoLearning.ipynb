{
 "metadata": {
  "name": ""
 },
 "nbformat": 3,
 "nbformat_minor": 0,
 "worksheets": [
  {
   "cells": [
    {
     "cell_type": "heading",
     "level": 1,
     "metadata": {},
     "source": [
      "BASICs"
     ]
    },
    {
     "cell_type": "markdown",
     "metadata": {},
     "source": [
      "## ex0. Install Theano\n",
      "```\n",
      "    $ sudo pip install Theano\n",
      "```"
     ]
    },
    {
     "cell_type": "markdown",
     "metadata": {},
     "source": [
      "## ex1: Adding two Scalars"
     ]
    },
    {
     "cell_type": "code",
     "collapsed": false,
     "input": [
      "from theano import function\n",
      "import theano.tensor as T\n",
      "\n",
      "# declare two symbolic floating-point scalars\n",
      "a = T.dscalar('a')\n",
      "b = T.dscalar('a')\n",
      "\n",
      "# create a simple expression\n",
      "c = a + b\n",
      "\n",
      "# convert the expression into a callable object that takes (a,b)\n",
      "# values as input and computes a value for c\n",
      "f = function([a, b], c)\n",
      "\n",
      "#bind 1.5 to 'a', 2.5 to 'b', and evaluate 'c'\n",
      "result = f(1.5, 2.5)\n",
      "\n",
      "print(result)"
     ],
     "language": "python",
     "metadata": {},
     "outputs": [
      {
       "output_type": "stream",
       "stream": "stdout",
       "text": [
        "4.0\n"
       ]
      }
     ],
     "prompt_number": 35
    },
    {
     "cell_type": "markdown",
     "metadata": {},
     "source": [
      "#### note:\n",
      "- declare variables (a,b) and give their types\n",
      "- build expressions for how to put those variables together\n",
      "- compile expression graphs to functions in order to use them for computation."
     ]
    },
    {
     "cell_type": "heading",
     "level": 3,
     "metadata": {},
     "source": [
      "step1"
     ]
    },
    {
     "cell_type": "code",
     "collapsed": false,
     "input": [
      "#define two symbols\n",
      "import theano.tensor as T\n",
      "\n",
      "a = T.dscalar('a')\n",
      "b = T.dscalar('b')\n",
      "\n",
      "print('type(a): ', type(a))\n",
      "print('a.type: ',a.type)\n",
      "print('T.dscalar: ',T.dscalar)\n",
      "print('a.type is T.dscalar: ',a.type is T.dscalar)"
     ],
     "language": "python",
     "metadata": {},
     "outputs": [
      {
       "output_type": "stream",
       "stream": "stdout",
       "text": [
        "type(a):  <class 'theano.tensor.var.TensorVariable'>\n",
        "a.type:  TensorType(float64, scalar)\n",
        "T.dscalar:  TensorType(float64, scalar)\n",
        "a.type is T.dscalar:  True\n"
       ]
      }
     ],
     "prompt_number": 23
    },
    {
     "cell_type": "markdown",
     "metadata": {},
     "source": [
      "#### note\n",
      "- `T.dscalar` is the type we assign to \"0-dimensional arrays(scalar) of doubles(d)\""
     ]
    },
    {
     "cell_type": "heading",
     "level": 3,
     "metadata": {},
     "source": [
      "step2"
     ]
    },
    {
     "cell_type": "code",
     "collapsed": false,
     "input": [
      "import theano.tensor as T\n",
      "from theano import pp\n",
      "\n",
      "a = T.dscalar('a')\n",
      "b = T.dscalar('b')\n",
      "\n",
      "# combine a and b into their sum c\n",
      "c = a + b\n",
      "\n",
      "print('print: ',c)\n",
      "print('pretty-print: ',pp(c))"
     ],
     "language": "python",
     "metadata": {},
     "outputs": [
      {
       "output_type": "stream",
       "stream": "stdout",
       "text": [
        "print:  Elemwise{add,no_inplace}.0\n",
        "pretty-print:  (a + b)\n"
       ]
      }
     ],
     "prompt_number": 29
    },
    {
     "cell_type": "heading",
     "level": 3,
     "metadata": {},
     "source": [
      "step3"
     ]
    },
    {
     "cell_type": "code",
     "collapsed": false,
     "input": [
      "import theano.tensor as T\n",
      "from theano import function\n",
      "\n",
      "a = T.dscalar('a')\n",
      "b = T.dscalar('b')\n",
      "c = a + b\n",
      "\n",
      "# create a function taking a and b as inputs and giving c as output\n",
      "f = function([a, b], c)\n",
      "\n",
      "print('type(f): ',type(f))"
     ],
     "language": "python",
     "metadata": {},
     "outputs": [
      {
       "output_type": "stream",
       "stream": "stdout",
       "text": [
        "type(f):  <class 'theano.compile.function_module.Function'>\n"
       ]
      }
     ],
     "prompt_number": 39
    },
    {
     "cell_type": "markdown",
     "metadata": {},
     "source": [
      "#### note :\n",
      "- The output of the function f is a numpy.ndarray with zero dimensions(scalar)."
     ]
    },
    {
     "cell_type": "markdown",
     "metadata": {},
     "source": [
      "[see more](http://deeplearning.net/software/theano/tutorial/adding.html)"
     ]
    },
    {
     "cell_type": "heading",
     "level": 2,
     "metadata": {},
     "source": [
      "ex2: Adding two Matrices"
     ]
    },
    {
     "cell_type": "code",
     "collapsed": false,
     "input": [
      "import theano.tensor as T\n",
      "from theano import function\n",
      "\n",
      "A = T.dmatrix('A')\n",
      "B = T.dmatrix('B')\n",
      "C = A + B\n",
      "f = function([A, B], C)\n",
      "\n",
      "A = [[1, 2],\n",
      "     [3, 4]]\n",
      "B = [[10, 20], \n",
      "     [30, 40]]\n",
      "f(A, B)"
     ],
     "language": "python",
     "metadata": {},
     "outputs": [
      {
       "metadata": {},
       "output_type": "pyout",
       "prompt_number": 63,
       "text": [
        "array([[ 11.,  22.],\n",
        "       [ 33.,  44.]])"
       ]
      }
     ],
     "prompt_number": 63
    },
    {
     "cell_type": "markdown",
     "metadata": {},
     "source": [
      "[see more](http://deeplearning.net/software/theano/tutorial/adding.html)"
     ]
    },
    {
     "cell_type": "heading",
     "level": 2,
     "metadata": {},
     "source": [
      "ex3: Graph Structures"
     ]
    },
    {
     "cell_type": "heading",
     "level": 3,
     "metadata": {},
     "source": [
      "Code:"
     ]
    },
    {
     "cell_type": "code",
     "collapsed": false,
     "input": [
      "import theano.tensor as T\n",
      "\n",
      "X = T.dmatrix('X')\n",
      "Y = T.dmatrix('Y')\n",
      "Z = X + Y"
     ],
     "language": "python",
     "metadata": {},
     "outputs": [],
     "prompt_number": 64
    },
    {
     "cell_type": "heading",
     "level": 3,
     "metadata": {},
     "source": [
      "Diagram:"
     ]
    },
    {
     "cell_type": "markdown",
     "metadata": {},
     "source": [
      "![](http://deeplearning.net/software/theano/_images/apply.png)"
     ]
    },
    {
     "cell_type": "markdown",
     "metadata": {},
     "source": [
      "#### note:\n",
      "- Theano represents symbolic mathematical computations as graphs.\n",
      "- Arrows represent references to the Python object pointed at.\n",
      "- Note that the `Apply` instance's outputs points to `Z`, and `Z.owner` points back to the `Apply` instance"
     ]
    },
    {
     "cell_type": "markdown",
     "metadata": {},
     "source": [
      "- An `Apply` node is typically an instance of the `Applay` class.\n",
      "- An `Apply` node is Theano's version of a function call whereas an `Op` is Theano's version of a function definition.\n",
      "- Code going like `def f(x): ...` would produce an Op for f whereas code like `a = f(x)` or `g(f(2), 3)` would produce an Apply node involving th `f` Op."
     ]
    },
    {
     "cell_type": "markdown",
     "metadata": {},
     "source": [
      "[see more](http://deeplearning.net/software/theano/extending/graphstructures.html#graphstructures)"
     ]
    },
    {
     "cell_type": "heading",
     "level": 2,
     "metadata": {},
     "source": [
      "ex4: Traversing the graph"
     ]
    },
    {
     "cell_type": "code",
     "collapsed": false,
     "input": [
      "import theano\n",
      "import theano.tensor as T\n",
      "X = T.dmatrix('X')\n",
      "Y = X * 2\n",
      "\n",
      "print('Y.owner: ', type(Y.owner))\n",
      "print('Y.owner.op.name: ', Y.owner.op.name)                # elementwise multiplication\n",
      "print()\n",
      "print('length of Y.owner.inputs: ', len(Y.owner.inputs))\n",
      "print('Y.owner.inputs[0]: ', Y.owner.inputs[0])\n",
      "print('Y.owner.inputs[1]: ', Y.owner.inputs[1])            # Note that the second input is not 2 as we would have expected\n",
      "print()\n",
      "print('Y.owner.inputs[1]: ', type(Y.owner.inputs[1]))\n",
      "print('Y.owner.inputs[1].owner: ', type(Y.owner.inputs[1].owner))\n",
      "print('Y.owner.inputs[1].owner.op: ', Y.owner.inputs[1].owner.op)\n",
      "print('Y.owner.inputs[1].owner.inputs: ', Y.owner.inputs[1].owner.inputs)"
     ],
     "language": "python",
     "metadata": {},
     "outputs": [
      {
       "output_type": "stream",
       "stream": "stdout",
       "text": [
        "Y.owner:  <class 'theano.gof.graph.Apply'>\n",
        "Y.owner.op.name:  Elemwise{mul,no_inplace}\n",
        "\n",
        "length of Y.owner.inputs:  2\n",
        "Y.owner.inputs[0]:  X\n",
        "Y.owner.inputs[1]:  DimShuffle{x,x}.0\n",
        "\n",
        "Y.owner.inputs[1]:  <class 'theano.tensor.var.TensorVariable'>\n",
        "Y.owner.inputs[1].owner:  <class 'theano.gof.graph.Apply'>\n",
        "Y.owner.inputs[1].owner.op:  DimShuffle{x,x}\n",
        "Y.owner.inputs[1].owner.inputs:  [TensorConstant{2}]\n"
       ]
      }
     ],
     "prompt_number": 80
    },
    {
     "cell_type": "markdown",
     "metadata": {},
     "source": [
      "#### traversing graph\n",
      "![](https://github.com/alphacoco/pythonLearn/blob/master/DL/TheanoLearning/Tutorial/Basics/TraversingGraph.png?raw=true)"
     ]
    },
    {
     "cell_type": "markdown",
     "metadata": {},
     "source": [
      "[see more](http://deeplearning.net/software/theano/extending/graphstructures.html#graphstructures)"
     ]
    },
    {
     "cell_type": "heading",
     "level": 2,
     "metadata": {},
     "source": [
      "ex5: Optimizations"
     ]
    },
    {
     "cell_type": "code",
     "collapsed": false,
     "input": [
      "import theano\n",
      "import theano.tensor as T\n",
      "\n",
      "a = T.vector('a')\n",
      "b = a + a ** 10\n",
      "f = theano.function([a], b)\n",
      "\n",
      "print(f([0, 1, 2]))\n",
      "\n",
      "theano.printing.pydotprint(b, outfile = './pics/symbolic_graph_unopt.png', var_with_name_simple = True)\n",
      "theano.printing.pydotprint(f, outfile = './pics/symbolic_graph_opt.png', var_with_name_simple = True)"
     ],
     "language": "python",
     "metadata": {},
     "outputs": [
      {
       "output_type": "stream",
       "stream": "stdout",
       "text": [
        "[    0.     2.  1026.]\n",
        "The output file is available at"
       ]
      },
      {
       "output_type": "stream",
       "stream": "stdout",
       "text": [
        " ./pics/symbolic_graph_unopt.png\n",
        "The output file is available at ./pics/symbolic_graph_opt.png\n"
       ]
      }
     ],
     "prompt_number": 7
    },
    {
     "cell_type": "markdown",
     "metadata": {},
     "source": [
      "#### Unoptimized graph\n",
      "![unopt](https://github.com/alphacoco/pythonLearn/blob/master/DL/TheanoLearning/Tutorial/Basics/symbolic_graph_unopt.png?raw=true)"
     ]
    },
    {
     "cell_type": "markdown",
     "metadata": {},
     "source": [
      "#### Optimized graph\n",
      "![opt](https://github.com/alphacoco/pythonLearn/blob/master/DL/TheanoLearning/Tutorial/Basics/symbolic_graph_opt.png?raw=true)"
     ]
    },
    {
     "cell_type": "markdown",
     "metadata": {},
     "source": [
      "#### note:\n",
      "before we go...\n",
      "- sudo apt-get install graphviz\n",
      "- pip3 install pydot\n",
      "- pip3 install graphviz"
     ]
    },
    {
     "cell_type": "markdown",
     "metadata": {},
     "source": [
      "[see more](http://deeplearning.net/software/theano/extending/graphstructures.html#graphstructures)"
     ]
    },
    {
     "cell_type": "heading",
     "level": 2,
     "metadata": {},
     "source": [
      "ex6: Logistic Function"
     ]
    },
    {
     "cell_type": "markdown",
     "metadata": {},
     "source": [
      "###logistic1:\n",
      "$$s(x) = \\frac{1}{1+e^{-x}}$$\n",
      "![](http://deeplearning.net/software/theano/_images/logistic.png)"
     ]
    },
    {
     "cell_type": "code",
     "collapsed": false,
     "input": [
      "import theano\n",
      "import theano.tensor as T\n",
      "\n",
      "x = T.dmatrix('x')\n",
      "s = 1 / (1 + T.exp(-x))\n",
      "logistic = theano.function([x], s)\n",
      "\n",
      "logistic([[0, 1], [-1, -2]])"
     ],
     "language": "python",
     "metadata": {},
     "outputs": [
      {
       "metadata": {},
       "output_type": "pyout",
       "prompt_number": 11,
       "text": [
        "array([[ 0.5       ,  0.73105858],\n",
        "       [ 0.26894142,  0.11920292]])"
       ]
      }
     ],
     "prompt_number": 11
    },
    {
     "cell_type": "markdown",
     "metadata": {},
     "source": [
      "###logistic2:\n",
      "$$ s(x) = \\frac{1}{1 + e^{-x}} = \\frac{1 + tanh(x/2)}2$$"
     ]
    },
    {
     "cell_type": "code",
     "collapsed": false,
     "input": [
      "import theano\n",
      "import theano.tensor as T\n",
      "\n",
      "x = T.dmatrix('x')\n",
      "s2 = (1 + T.tanh(x/2)) / 2\n",
      "logistic2 = theano.function([x], s2)\n",
      "\n",
      "logistic([[0, 1], [-1, -2]])"
     ],
     "language": "python",
     "metadata": {},
     "outputs": [
      {
       "metadata": {},
       "output_type": "pyout",
       "prompt_number": 12,
       "text": [
        "array([[ 0.5       ,  0.73105858],\n",
        "       [ 0.26894142,  0.11920292]])"
       ]
      }
     ],
     "prompt_number": 12
    },
    {
     "cell_type": "markdown",
     "metadata": {},
     "source": [
      "[see more](http://deeplearning.net/software/theano/tutorial/examples.html)"
     ]
    },
    {
     "cell_type": "heading",
     "level": 2,
     "metadata": {},
     "source": [
      "ex7: Computing More than one Thing at the Same Time "
     ]
    },
    {
     "cell_type": "code",
     "collapsed": false,
     "input": [
      "import theano\n",
      "import theano.tensor as T\n",
      "\n",
      "a, b = T.dmatrices('a', 'b')\n",
      "diff = a - b\n",
      "abs_diff = abs(diff)\n",
      "f = theano.function([a, b], [diff, abs_diff])\n",
      "\n",
      "f([[1, 1], [1, 1]], [[0, 1], [2, 3]])"
     ],
     "language": "python",
     "metadata": {},
     "outputs": [
      {
       "metadata": {},
       "output_type": "pyout",
       "prompt_number": 13,
       "text": [
        "[array([[ 1.,  0.],\n",
        "       [-1., -2.]]),\n",
        " array([[ 1.,  0.],\n",
        "       [ 1.,  2.]])]"
       ]
      }
     ],
     "prompt_number": 13
    },
    {
     "cell_type": "markdown",
     "metadata": {},
     "source": [
      "[see more](http://deeplearning.net/software/theano/tutorial/examples.html)"
     ]
    },
    {
     "cell_type": "heading",
     "level": 2,
     "metadata": {},
     "source": [
      "ex8: Setting a Default Value for an Argument"
     ]
    },
    {
     "cell_type": "code",
     "collapsed": false,
     "input": [
      "import theano\n",
      "from theano import In\n",
      "import theano.tensor as T\n",
      "\n",
      "x, y, z = T.dscalars('x', 'y', 'z')\n",
      "w = (x + y) * z\n",
      "f = theano.function([x, In(y, value = 1), In(z, value = 2, name = 'z_by_name')], w)\n",
      "\n",
      "print('x = 3: ',f(3))\n",
      "print('x = 3, y = 2: ', f(3, 2))\n",
      "print('x = 3, y =0, z = 1: ', f(3, 0, 1))\n",
      "print()\n",
      "print('x = 3, z = 1: ', f(3, z_by_name = 1))\n",
      "print('x = 3, y = 0, z = 1: ',f(3, z_by_name = 1, y = 0))"
     ],
     "language": "python",
     "metadata": {},
     "outputs": [
      {
       "output_type": "stream",
       "stream": "stdout",
       "text": [
        "x = 3:  8.0\n",
        "x = 3, y = 2:  10.0\n",
        "x = 3, y =0, z = 1:  3.0\n",
        "\n",
        "x = 3, z = 1:  4.0\n",
        "x = 3, y = 0, z = 1:  3.0\n"
       ]
      }
     ],
     "prompt_number": 25
    },
    {
     "cell_type": "markdown",
     "metadata": {},
     "source": [
      "[see more](http://deeplearning.net/software/theano/tutorial/examples.html)"
     ]
    },
    {
     "cell_type": "heading",
     "level": 2,
     "metadata": {},
     "source": [
      "ex9: Using Shared Variables"
     ]
    },
    {
     "cell_type": "code",
     "collapsed": false,
     "input": [
      "# It adds its argument to the internal state, and returns the old state value.\n",
      "\n",
      "import theano\n",
      "import theano.tensor as T\n",
      "from theano import shared\n",
      "\n",
      "state = shared(0)\n",
      "inc = T.iscalar('inc')\n",
      "accumulator = theano.function([inc], state, updates = [(state, state + inc)])\n",
      "\n",
      "print('init state: ', state.get_value())\n",
      "print('old state: ', accumulator(1))\n",
      "print('after add 1: ', state.get_value())\n",
      "print('old state: ', accumulator(100))\n",
      "print('after add 100: ', state.get_value())\n",
      "print()\n",
      "\n",
      "state.set_value(-1)\n",
      "print('reset the state: ', accumulator(3))\n",
      "print('after add 3: ', state.get_value())\n",
      "print()\n",
      "\n",
      "decrementor = theano.function([inc], state, updates = [(state, state - inc)])\n",
      "print('old state: ', decrementor(2))\n",
      "print('after minus 2: ', state.get_value())\n",
      "print()\n",
      "\n",
      "fn_of_state = state * 2 + inc\n",
      "foo = T.scalar(dtype = state.dtype) # the state of foo must match the shared variable we are replacing with the `givens`\n",
      "skip_shared = theano.function([inc, foo], fn_of_state, givens = [(state, foo)])\n",
      "print('fn_of_state: ', skip_shared(1, 3))\n",
      "print('state value: ', state.get_value())         # old state still there, but we didn't use it"
     ],
     "language": "python",
     "metadata": {},
     "outputs": [
      {
       "output_type": "stream",
       "stream": "stdout",
       "text": [
        "init state:  0\n",
        "old state:  0\n",
        "after add 1:  1\n",
        "old state:  1\n",
        "after add 100:  101\n",
        "\n",
        "reset the state:  -1\n",
        "after add 3:  2\n",
        "\n",
        "old state:  2\n",
        "after minus 2:  0\n",
        "\n",
        "fn_of_state:  7\n",
        "state value:  0\n"
       ]
      }
     ],
     "prompt_number": 61
    },
    {
     "cell_type": "markdown",
     "metadata": {},
     "source": [
      "#### accumulator\n",
      "![](https://github.com/alphacoco/pythonLearn/blob/master/DL/TheanoLearning/Tutorial/Basics/accumulator.png?raw=true)"
     ]
    },
    {
     "cell_type": "markdown",
     "metadata": {},
     "source": [
      "#### decrementor\n",
      "![](https://github.com/alphacoco/pythonLearn/blob/master/DL/TheanoLearning/Tutorial/Basics/decrementor.png?raw=true)"
     ]
    },
    {
     "cell_type": "markdown",
     "metadata": {},
     "source": [
      "#### skip_shared\n",
      "![](https://github.com/alphacoco/pythonLearn/blob/master/DL/TheanoLearning/Tutorial/Basics/skip_shared.png?raw=true)"
     ]
    },
    {
     "cell_type": "markdown",
     "metadata": {},
     "source": [
      "[see more](http://deeplearning.net/software/theano/tutorial/examples.html)"
     ]
    },
    {
     "cell_type": "heading",
     "level": 2,
     "metadata": {},
     "source": [
      "ex10: Copying funcion"
     ]
    },
    {
     "cell_type": "code",
     "collapsed": false,
     "input": [
      "import theano\n",
      "import theano.tensor as T\n",
      "\n",
      "# create a accumulator function\n",
      "state = theano.shared(0)\n",
      "inc = T.iscalar('inc')\n",
      "accumulator = theano.function([inc], state, updates = [(state, state + inc)], on_unused_input = 'ignore')\n",
      "\n",
      "print('init state: ', accumulator(10))\n",
      "print('after add 10, state: ', state.get_value())\n",
      "print()\n",
      "\n",
      "# create a similar accumulator but with its own internal state.\n",
      "new_state = theano.shared(0)\n",
      "new_accumulator = accumulator.copy(swap = {state: new_state})\n",
      "print('init new_state: ', new_accumulator(100))\n",
      "print('after add 100, new_state: ', new_state.get_value())\n",
      "print('after new_state add 100, state: ', state.get_value())\n",
      "print()\n",
      "\n",
      "# create a copy with updates removed.\n",
      "null_accumulator = accumulator.copy(delete_updates = True)\n",
      "print('old state: ', null_accumulator(1000))\n",
      "print('after add 1000, state: ', state.get_value())\n"
     ],
     "language": "python",
     "metadata": {},
     "outputs": [
      {
       "output_type": "stream",
       "stream": "stdout",
       "text": [
        "init state:  0\n",
        "after add 10, state:  10\n",
        "\n",
        "init new_state:  [array(0)]\n",
        "after add 100, new_state:  100\n",
        "after new_state add 100, state:  10\n",
        "\n",
        "old state:  [array(10)]\n",
        "after add 1000, state:  10\n"
       ]
      }
     ],
     "prompt_number": 85
    },
    {
     "cell_type": "markdown",
     "metadata": {},
     "source": [
      "[see more](http://deeplearning.net/software/theano/tutorial/examples.html)"
     ]
    },
    {
     "cell_type": "heading",
     "level": 2,
     "metadata": {},
     "source": [
      "ex11: Using Random Numbers"
     ]
    },
    {
     "cell_type": "code",
     "collapsed": false,
     "input": [
      "import theano\n",
      "from theano.tensor.shared_randomstreams import RandomStreams\n",
      "\n",
      "srng = RandomStreams(seed = 234)\n",
      "rv_u = srng.uniform((2, 2))      # rv_u : Random Variable Uniform\n",
      "rv_n = srng.normal((2, 2))       # rv_n : Random Variable Normal\n",
      "f = theano.function([], rv_u)\n",
      "g = theano.function([], rv_n, no_default_updates = True)        # Not updating rv_n.rng\n",
      "nearly_zeros = theano.function([], rv_u + rv_u - 2 * rv_u)\n",
      "\n",
      "f_val0 = f()\n",
      "f_val1 = f()\n",
      "print('f_val0 and f_val1 are different: ')\n",
      "print(f_val0, '\\n')\n",
      "print(f_val1, '\\n')\n",
      "\n",
      "g_val0 = g()\n",
      "g_val1 = g()\n",
      "print('g_val0 and g_val1 are the same: ')\n",
      "print(g_val0, '\\n')\n",
      "print(g_val1)\n",
      "\n",
      "nearly_zeros()"
     ],
     "language": "python",
     "metadata": {},
     "outputs": [
      {
       "output_type": "stream",
       "stream": "stdout",
       "text": [
        "The output file is available at ./pics/0.png\n",
        "f_val0 and f_val1 are different: \n",
        "[[ 0.12672381  0.97091597]\n",
        " [ 0.13989098  0.88754825]] \n",
        "\n",
        "[[ 0.31971415  0.47584377]\n",
        " [ 0.24129163  0.42046081]] \n",
        "\n",
        "g_val0 and g_val1 are the same: \n",
        "[[ 0.37328447 -0.65746672]\n",
        " [-0.36302373 -0.97484625]] \n",
        "\n",
        "[[ 0.37328447 -0.65746672]\n",
        " [-0.36302373 -0.97484625]]\n"
       ]
      },
      {
       "metadata": {},
       "output_type": "pyout",
       "prompt_number": 112,
       "text": [
        "array([[ 0.,  0.],\n",
        "       [ 0.,  0.]])"
       ]
      }
     ],
     "prompt_number": 112
    },
    {
     "cell_type": "markdown",
     "metadata": {},
     "source": [
      "#### random variable uniform(f)\n",
      "![](https://github.com/alphacoco/pythonLearn/blob/master/DL/TheanoLearning/Tutorial/Basics/rv_u.png?raw=true)"
     ]
    },
    {
     "cell_type": "markdown",
     "metadata": {},
     "source": [
      "#### random variable normal(g)\n",
      "![](https://github.com/alphacoco/pythonLearn/blob/master/DL/TheanoLearning/Tutorial/Basics/rv_n.png?raw=true)"
     ]
    },
    {
     "cell_type": "markdown",
     "metadata": {},
     "source": [
      "#### nearly zeros function\n",
      "![](https://github.com/alphacoco/pythonLearn/blob/master/DL/TheanoLearning/Tutorial/Basics/nearly_zeros.png?raw=true)"
     ]
    },
    {
     "cell_type": "markdown",
     "metadata": {},
     "source": [
      "#### note:\n",
      "- An important remark is that a random variable is drawn at most once during any single function execution. So the nearly_zeros function is guaranteed to return approximately 0(except for rounding error) even though the rv_u random variable appears 3 times in the output expression."
     ]
    },
    {
     "cell_type": "markdown",
     "metadata": {},
     "source": [
      "[see more](http://deeplearning.net/software/theano/tutorial/examples.html)"
     ]
    },
    {
     "cell_type": "heading",
     "level": 2,
     "metadata": {},
     "source": [
      "ex12: Conditins"
     ]
    },
    {
     "cell_type": "code",
     "collapsed": false,
     "input": [
      "import theano\n",
      "import theano.tensor as T\n",
      "from theano.ifelse import ifelse\n",
      "\n",
      "a, b, x, y = T.scalars('a', 'b', 'x', 'y')\n",
      "\n",
      "# ifelse\n",
      "z = ifelse(T.lt(a, b), x, y)          # T.lt : less than(<)\n",
      "f = theano.function([a, b, x, y], z)\n",
      "\n",
      "# switch\n",
      "w = T.switch(T.lt(a, b), x, y)\n",
      "g = theano.function([a, b, x, y], w)\n",
      "\n",
      "print('ifelse: ', f(1, 2, 3, 4))\n",
      "print('switch: ', g(1, 2, 3, 4))"
     ],
     "language": "python",
     "metadata": {},
     "outputs": [
      {
       "output_type": "stream",
       "stream": "stdout",
       "text": [
        "ifelse:  3.0\n",
        "switch:  3.0\n"
       ]
      }
     ],
     "prompt_number": 146
    },
    {
     "cell_type": "markdown",
     "metadata": {},
     "source": [
      "#### ifelse-z\n",
      "![](https://github.com/alphacoco/pythonLearn/blob/master/DL/TheanoLearning/Tutorial/Basics/ifelse-z.png?raw=true)"
     ]
    },
    {
     "cell_type": "markdown",
     "metadata": {},
     "source": [
      "#### ifelse-f\n",
      "![](https://github.com/alphacoco/pythonLearn/blob/master/DL/TheanoLearning/Tutorial/Basics/ifelse-f.png?raw=true)"
     ]
    },
    {
     "cell_type": "markdown",
     "metadata": {},
     "source": [
      "#### switch-w\n",
      "![](https://github.com/alphacoco/pythonLearn/blob/master/DL/TheanoLearning/Tutorial/Basics/switch-w.png?raw=true)"
     ]
    },
    {
     "cell_type": "markdown",
     "metadata": {},
     "source": [
      "#### switch-g\n",
      "![](https://github.com/alphacoco/pythonLearn/blob/master/DL/TheanoLearning/Tutorial/Basics/switch-g.png?raw=true)"
     ]
    },
    {
     "cell_type": "markdown",
     "metadata": {},
     "source": [
      "#### note:\n",
      "- `ifelse` takes a boolean condition and two variables as inputs.\n",
      "- `switch` takes a tensor as condition and two variables as inputs. `switch` is an elementwise operation.\n",
      "- Whereas `switch` evaluates both output variables, `ifelse` is lazy and only evaluates one variable with respect to the condition. "
     ]
    },
    {
     "cell_type": "markdown",
     "metadata": {},
     "source": [
      "[see more](http://deeplearning.net/software/theano/tutorial/conditions.html)"
     ]
    },
    {
     "cell_type": "heading",
     "level": 2,
     "metadata": {},
     "source": [
      "ex13: Derivatives in Theano"
     ]
    },
    {
     "cell_type": "markdown",
     "metadata": {},
     "source": [
      "### Compute gradients:\n",
      "$\\frac{d(x^2)}{x} = 2x$"
     ]
    },
    {
     "cell_type": "code",
     "collapsed": false,
     "input": [
      "# Here is the code to compute the gradient\n",
      "import theano\n",
      "import theano.tensor as T\n",
      "\n",
      "x = T.dscalar('x')\n",
      "y = x ** 2\n",
      "gy = T.grad(y, x)\n",
      "\n",
      "# print out the gradient prior to optimization\n",
      "print(theano.pp(gy))\n",
      "\n",
      "f = theano.function([x], gy)\n",
      "\n",
      "# the optimizer simplifies the symbolic gradient expression\n",
      "print(theano.pp(f.maker.fgraph.outputs[0]))\n",
      "f(3)"
     ],
     "language": "python",
     "metadata": {},
     "outputs": [
      {
       "output_type": "stream",
       "stream": "stdout",
       "text": [
        "((fill((x ** TensorConstant{2}), TensorConstant{1.0}) * TensorConstant{2}) * (x ** (TensorConstant{2} - TensorConstant{1})))\n",
        "The output file is available at"
       ]
      },
      {
       "output_type": "stream",
       "stream": "stdout",
       "text": [
        " ./pics/f.png\n",
        "(TensorConstant{2.0} * x)\n"
       ]
      },
      {
       "metadata": {},
       "output_type": "pyout",
       "prompt_number": 10,
       "text": [
        "array(6.0)"
       ]
      }
     ],
     "prompt_number": 10
    },
    {
     "cell_type": "markdown",
     "metadata": {},
     "source": [
      "####gy\n",
      "![](https://github.com/alphacoco/pythonLearn/blob/master/DL/TheanoLearning/Tutorial/Basics/gy.png?raw=true)"
     ]
    },
    {
     "cell_type": "markdown",
     "metadata": {},
     "source": [
      "#### note:\n",
      "- fill((x ** 2), 1.0) means to make a matrix of the same shape as x**2 and fill it with 1.0"
     ]
    },
    {
     "cell_type": "heading",
     "level": 2,
     "metadata": {},
     "source": [
      "ex14: Gradient of the Logistic function"
     ]
    },
    {
     "cell_type": "markdown",
     "metadata": {},
     "source": [
      "### Logistic function\n",
      "$$ s(x) = \\frac{1}{1 + e^{-x}} $$\n",
      "#### its gradient: \n",
      "$$ \\frac{ds(x)}{dx} = s(x)(1-s(x)) $$"
     ]
    },
    {
     "cell_type": "markdown",
     "metadata": {},
     "source": [
      "![](http://deeplearning.net/software/theano/_images/dlogistic.png)"
     ]
    },
    {
     "cell_type": "code",
     "collapsed": false,
     "input": [
      "# Here is the code to compute the gradient of the logistic function\n",
      "import theano\n",
      "import theano.tensor as T\n",
      "\n",
      "x = T.dmatrix('x')\n",
      "s = T.sum(1 / (1 + T.exp(-x)))\n",
      "\n",
      "gs = T.grad(s, x)                                    # cost must be a scalar\n",
      "dlogistic = theano.function([x], gs)\n",
      "\n",
      "dlogistic([[0, 1], [-1, -2]])"
     ],
     "language": "python",
     "metadata": {},
     "outputs": [
      {
       "metadata": {},
       "output_type": "pyout",
       "prompt_number": 27,
       "text": [
        "array([[ 0.25      ,  0.19661193],\n",
        "       [ 0.19661193,  0.10499359]])"
       ]
      }
     ],
     "prompt_number": 27
    },
    {
     "cell_type": "markdown",
     "metadata": {},
     "source": [
      "[see more](http://deeplearning.net/software/theano/tutorial/gradients.html)"
     ]
    },
    {
     "cell_type": "heading",
     "level": 2,
     "metadata": {},
     "source": [
      "ex15: Computing norms of lines of X"
     ]
    },
    {
     "cell_type": "code",
     "collapsed": false,
     "input": [
      "import theano\n",
      "import theano.tensor as T\n",
      "import numpy as np\n",
      "\n",
      "# define tensor variable\n",
      "X = T.matrix(\"X\")\n",
      "results, updates = theano.scan(lambda x_i: T.sqrt((x_i ** 2).sum()), sequences=[X])\n",
      "compute_norm_lines = theano.function(inputs=[X], outputs=results)\n",
      "\n",
      "# test value\n",
      "x = np.diag(np.arange(1, 6, dtype=theano.config.floatX), 1)\n",
      "print(compute_norm_lines(x))\n",
      "\n",
      "# comparison with numpy\n",
      "print(np.sqrt((x ** 2).sum(1)))"
     ],
     "language": "python",
     "metadata": {},
     "outputs": [
      {
       "output_type": "stream",
       "stream": "stdout",
       "text": [
        "[ 1.  2.  3.  4.  5.  0.]\n",
        "[ 1.  2.  3.  4.  5.  0.]\n"
       ]
      }
     ],
     "prompt_number": 47
    },
    {
     "cell_type": "markdown",
     "metadata": {},
     "source": [
      "[see more](http://deeplearning.net/software/theano/tutorial/loop.html)"
     ]
    },
    {
     "cell_type": "heading",
     "level": 2,
     "metadata": {},
     "source": [
      "ex16: Computing norms of columns of X"
     ]
    },
    {
     "cell_type": "code",
     "collapsed": false,
     "input": [
      "import theano\n",
      "import theano.tensor as T\n",
      "import numpy as np\n",
      "\n",
      "# define tensor variable\n",
      "X = T.matrix(\"X\")\n",
      "results, updates = theano.scan(lambda x_i: T.sqrt((x_i ** 2).sum()), sequences=[X.T])\n",
      "compute_norm_cols = theano.function(inputs=[X], outputs=results)\n",
      "\n",
      "# test value\n",
      "x = np.diag(np.arange(1, 6, dtype=theano.config.floatX), 1)\n",
      "print(compute_norm_cols(x))\n",
      "\n",
      "# comparison with numpy\n",
      "print(np.sqrt((x ** 2).sum(0)))"
     ],
     "language": "python",
     "metadata": {},
     "outputs": [
      {
       "output_type": "stream",
       "stream": "stdout",
       "text": [
        "[ 0.  1.  2.  3.  4.  5.]\n",
        "[ 0.  1.  2.  3.  4.  5.]\n"
       ]
      }
     ],
     "prompt_number": 48
    },
    {
     "cell_type": "markdown",
     "metadata": {},
     "source": [
      "[see more](http://deeplearning.net/software/theano/tutorial/loop.html)"
     ]
    },
    {
     "cell_type": "heading",
     "level": 2,
     "metadata": {},
     "source": [
      "ex17: Accumulate number of loop during a scan"
     ]
    },
    {
     "cell_type": "code",
     "collapsed": false,
     "input": [
      "import theano\n",
      "import theano.tensor as T\n",
      "import numpy as np\n",
      "\n",
      "# define shared variables\n",
      "k = theano.shared(0)\n",
      "n_sym = T.iscalar('n_sym')\n",
      "\n",
      "results, updates = theano.scan(lambda: {k:(k + 1)}, n_steps = n_sym)\n",
      "accumulator = theano.function([n_sym], [], updates = updates, allow_input_downcast = True)\n",
      "\n",
      "print('initial state: ', k.get_value())\n",
      "accumulator(4)\n",
      "print('after add 4: ', k.get_value())"
     ],
     "language": "python",
     "metadata": {},
     "outputs": [
      {
       "output_type": "stream",
       "stream": "stdout",
       "text": [
        "initial state:  0\n",
        "after add 4:  4\n"
       ]
      }
     ],
     "prompt_number": 50
    },
    {
     "cell_type": "markdown",
     "metadata": {},
     "source": [
      "[see more](http://deeplearning.net/software/theano/tutorial/loop.html)"
     ]
    },
    {
     "cell_type": "heading",
     "level": 2,
     "metadata": {},
     "source": [
      "ex18: Computing pow(A, k)"
     ]
    },
    {
     "cell_type": "code",
     "collapsed": false,
     "input": [
      "import theano\n",
      "import theano.tensor as T\n",
      "theano.config.warn.subtensor_merge_bug = False\n",
      "\n",
      "k = T.iscalar('k')\n",
      "A = T.vector('A')\n",
      "\n",
      "def inner_fct(prior_result, B):\n",
      "    return prior_result * B\n",
      "\n",
      "result, updates = theano.scan(fn = inner_fct, outputs_info = T.ones_like(A), non_sequences = A, n_steps = k)\n",
      "\n",
      "# Scan has provided us with A**1 through A**k. Keep only the last value. \n",
      "# Scan notices this and does not waste memory saving them.\n",
      "final_result = result[-1]\n",
      "\n",
      "power = theano.function(inputs = [A, k], outputs = final_result, updates = updates)\n",
      "\n",
      "print(power(range(10), 2))"
     ],
     "language": "python",
     "metadata": {},
     "outputs": [
      {
       "output_type": "stream",
       "stream": "stdout",
       "text": [
        "[  0.   1.   4.   9.  16.  25.  36.  49.  64.  81.]\n"
       ]
      }
     ],
     "prompt_number": 52
    },
    {
     "cell_type": "markdown",
     "metadata": {},
     "source": [
      "[see more](http://deeplearning.net/software/theano/tutorial/loop.html)"
     ]
    },
    {
     "cell_type": "heading",
     "level": 2,
     "metadata": {},
     "source": [
      "ex19: Logistic Regression"
     ]
    },
    {
     "cell_type": "code",
     "collapsed": false,
     "input": [
      "import numpy\n",
      "import theano\n",
      "import theano.tensor as T\n",
      "rng = numpy.random\n",
      "\n",
      "N = 400                                   # training sample size\n",
      "feats = 784                               # number of input variables\n",
      "\n",
      "# generate a dataset: D = (input_values, target_class)\n",
      "D = (rng.randn(N, feats), rng.randint(size=N, low=0, high=2))\n",
      "training_steps = 10000\n",
      "\n",
      "# Declare Theano symbolic variables\n",
      "x = T.dmatrix(\"x\")\n",
      "y = T.dvector(\"y\")\n",
      "\n",
      "# initialize the weight vector w randomly\n",
      "#\n",
      "# this and the following bias variable b\n",
      "# are shared so they keep their values\n",
      "# between training iterations (updates)\n",
      "w = theano.shared(rng.randn(feats), name=\"w\")\n",
      "\n",
      "# initialize the bias term\n",
      "b = theano.shared(0., name=\"b\")\n",
      "\n",
      "print(\"Initial model:\")\n",
      "print(w.get_value())\n",
      "print(b.get_value())\n",
      "\n",
      "# Construct Theano expression graph\n",
      "p_1 = 1 / (1 + T.exp(-T.dot(x, w) - b))   # Probability that target = 1\n",
      "prediction = p_1 > 0.5                    # The prediction thresholded\n",
      "xent = -y * T.log(p_1) - (1-y) * T.log(1-p_1) # Cross-entropy loss function\n",
      "cost = xent.mean() + 0.01 * (w ** 2).sum()# The cost to minimize\n",
      "gw, gb = T.grad(cost, [w, b])             # Compute the gradient of the cost\n",
      "                                          # w.r.t weight vector w and\n",
      "                                          # bias term b\n",
      "                                          # (we shall return to this in a\n",
      "                                          # following section of this tutorial)\n",
      "\n",
      "# Compile\n",
      "train = theano.function(\n",
      "          inputs=[x,y],\n",
      "          outputs=[prediction, xent],\n",
      "          updates=((w, w - 0.1 * gw), (b, b - 0.1 * gb)))\n",
      "predict = theano.function(inputs=[x], outputs=prediction)\n",
      "\n",
      "# Train\n",
      "for i in range(training_steps):\n",
      "    pred, err = train(D[0], D[1])\n",
      "\n",
      "print(\"Final model:\")\n",
      "print(w.get_value())\n",
      "print(b.get_value())\n",
      "print(\"target values for D:\")\n",
      "print(D[1])\n",
      "print(\"prediction on D:\")\n",
      "print(predict(D[0]))"
     ],
     "language": "python",
     "metadata": {},
     "outputs": [
      {
       "output_type": "stream",
       "stream": "stdout",
       "text": [
        "Initial model:\n",
        "[  1.53385176e+00   1.32418816e+00   1.03727830e+00  -1.90869944e+00\n",
        "   1.07705799e+00  -1.20865069e-01  -9.71945422e-01  -3.21564593e-01\n",
        "   3.79466834e-03  -1.55679036e-01  -2.68968048e-01   2.46961691e-01\n",
        "  -6.38840241e-01  -1.78739053e+00  -1.31508018e+00  -2.82912652e-03\n",
        "  -1.99154256e-01   1.76122080e+00  -5.68693669e-01   4.82353581e-01\n",
        "  -1.58329712e+00   1.00397892e+00   4.10400367e-01  -3.70568433e-01\n",
        "  -9.75100725e-01   1.23904208e+00   5.96147619e-01  -2.85046685e-01\n",
        "  -6.03382908e-02   1.34902202e+00  -3.76217797e-01   1.22282417e-01\n",
        "   7.05770009e-01  -1.03302057e+00   7.41110204e-01   4.75464162e-03\n",
        "  -1.65582986e-01  -7.31325469e-01   4.92554933e-01  -1.04672684e+00\n",
        "  -8.86028664e-01  -4.14094443e-01  -1.08284628e+00   2.46246888e-01\n",
        "   8.94222632e-01   4.66914438e-02   1.29122638e-01  -2.10654218e+00\n",
        "  -5.62534958e-01   8.85511931e-01  -1.44793771e+00  -1.39306316e+00\n",
        "  -1.43095615e+00  -2.82856487e-01  -3.43898332e-01   2.70198764e-01\n",
        "  -8.60949519e-01  -9.90312951e-01   6.55806792e-01   8.53289286e-01\n",
        "  -1.01185767e+00  -3.42697421e-01  -2.56139778e+00  -1.54641018e+00\n",
        "  -1.50704468e+00  -2.45913509e-01   1.49974435e+00   1.03990531e+00\n",
        "  -7.50344607e-01   1.62342586e+00  -6.46622741e-01  -5.89598522e-01\n",
        "   8.11632416e-01  -4.98639343e-01  -1.23547140e+00   7.83370120e-01\n",
        "  -3.78935011e-01  -4.62740516e-01   1.15839857e+00   8.83309638e-01\n",
        "  -6.62454709e-01  -4.47885395e-01   8.89467668e-02   6.87951553e-01\n",
        "   9.69378358e-01   1.00989986e+00   9.97400667e-01  -1.23032340e+00\n",
        "   8.70263253e-01   7.37947922e-01   2.49608792e+00   1.47374398e+00\n",
        "  -1.45606620e+00  -1.44830464e+00  -8.31985476e-01  -3.42792395e-02\n",
        "  -8.67095810e-01   1.61169002e+00   1.03280400e+00   4.00342399e-01\n",
        "  -1.86680008e-01   1.72852723e+00  -1.20300576e+00  -1.55985511e-01\n",
        "   5.47231691e-01  -9.29591695e-01  -3.26834473e-01   3.65807542e-01\n",
        "  -1.46056248e+00  -1.06710918e+00  -3.61508101e-01  -4.01387136e-01\n",
        "   3.92910174e-01  -8.23008892e-01   2.86162381e-01   5.96163063e-01\n",
        "  -1.05753752e+00  -6.52677212e-01  -1.15989578e+00  -1.29001331e+00\n",
        "  -1.80315469e+00   8.77176961e-02   1.29448516e+00   8.73833956e-03\n",
        "   1.61597493e-01  -3.92495414e-01   4.35307879e-01  -8.53032095e-01\n",
        "   1.13323529e+00   1.19941198e+00  -1.61246806e+00   5.02679303e-01\n",
        "  -2.39372152e-01  -1.54730715e+00   3.39105464e-01  -1.17708805e-01\n",
        "   1.41728045e-01   1.71539550e+00  -1.10728187e+00  -7.15356641e-02\n",
        "  -1.19149581e+00  -3.94573026e-01   3.94004830e-01   7.48575781e-01\n",
        "  -8.04321312e-01   9.21679972e-01   1.56133975e+00  -2.72187712e-01\n",
        "   1.33278823e-01  -4.23551065e-02   4.23913186e-01   3.21342686e-01\n",
        "   9.08196898e-01  -7.38122294e-01  -8.91552162e-02  -5.48377497e-01\n",
        "  -1.73681399e+00  -1.03059250e+00  -3.55104524e-02   3.82052951e-02\n",
        "   1.50468405e-01   6.68140525e-01  -2.86515792e-01  -1.94268624e-01\n",
        "   1.54808240e+00   5.13448858e-01   1.72747770e+00   1.81920307e-01\n",
        "   4.13733871e-01  -1.43899209e+00  -1.78287763e+00  -6.00932701e-01\n",
        "  -1.17491486e+00  -1.15400697e+00   9.33204624e-01  -7.96668441e-01\n",
        "   2.72347888e-01   1.25210090e+00  -1.16544444e+00   1.01670313e+00\n",
        "  -6.68383924e-01  -1.25892751e-02   5.67787893e-01  -1.71565704e+00\n",
        "   1.90098792e+00   2.81980956e-01   7.07863255e-01  -6.84423237e-01\n",
        "  -4.25161423e-02   8.13685940e-01   1.30043295e+00  -1.01368454e+00\n",
        "  -8.39365845e-01   1.12178414e+00   1.74720019e-01  -6.72855706e-01\n",
        "   1.63618261e+00   2.02821478e-01  -1.70458924e+00   2.10570241e-01\n",
        "   1.57867181e-01   7.44088730e-01   9.89711478e-01   9.25472069e-01\n",
        "  -9.41373413e-01  -1.11720184e+00   2.63284028e-02  -8.88401661e-01\n",
        "   2.71494196e-01   1.18681884e+00   2.89781628e-01  -1.00234489e+00\n",
        "  -7.59317313e-01  -4.60390854e-01   1.33261446e+00   7.02933237e-01\n",
        "  -8.83594755e-01   3.87789806e-01   2.91086774e-01   3.52266232e-01\n",
        "   8.54467965e-01  -1.20555731e+00  -2.34399044e+00   6.74272571e-02\n",
        "   1.07080299e+00   4.57171647e-01  -2.66555137e-01   1.26014652e+00\n",
        "  -1.03678678e+00   8.77959994e-01  -4.66355676e-02  -9.94892480e-01\n",
        "  -9.13532637e-01  -4.92122271e-01   6.16767908e-01  -1.98762082e+00\n",
        "  -5.68568681e-03   9.08289359e-01   3.70504192e-01   1.61923004e-01\n",
        "   2.04053679e-01  -2.60225957e-01  -1.74056852e+00   1.40048979e+00\n",
        "   4.08896856e-01   1.57906566e+00  -7.64889241e-02   1.14521836e+00\n",
        "   5.17158299e-01   8.04977756e-01   1.20233284e+00   1.44553775e+00\n",
        "  -3.20970329e-01  -1.57236524e+00   8.39692838e-01   1.06356478e+00\n",
        "   1.42291374e+00   6.40072932e-01   6.22362993e-01  -6.52642571e-01\n",
        "  -1.63748370e+00   8.40892348e-01  -1.24310310e+00  -1.20057386e+00\n",
        "  -1.12685664e+00   1.08078982e+00  -1.48939755e-01   5.82323417e-01\n",
        "   3.13272374e-01  -1.28391955e+00   3.86202105e-01  -8.32271010e-01\n",
        "  -1.60773131e+00  -1.65026923e+00  -8.97858698e-01   3.55354891e-02\n",
        "  -8.82892832e-01  -3.57840818e-01   3.30258781e-01  -1.23403550e-01\n",
        "  -1.99776622e+00  -1.40890809e+00   1.30500038e+00  -1.04393060e+00\n",
        "   8.45406122e-01   6.48039735e-01  -8.03022255e-01   1.66438550e+00\n",
        "   1.03796545e+00  -6.79167551e-01  -8.40169608e-01  -4.97663871e-01\n",
        "  -6.20991586e-02  -1.00508737e+00  -1.93990691e+00   2.20429668e-01\n",
        "   1.64262045e+00  -6.93648660e-02  -4.73262569e-01  -2.00433923e-01\n",
        "  -1.44395900e+00   1.58408304e+00  -3.65153669e-01   2.18374192e+00\n",
        "  -7.90197657e-01  -4.21264935e-01   2.72511840e-02  -3.60311794e-02\n",
        "   1.39470577e+00   3.89503059e-01   9.88285386e-01  -4.80273250e-02\n",
        "   2.92599532e-01   2.92394533e-01  -1.06637357e+00   6.39127434e-01\n",
        "  -1.84675021e-01  -6.90660039e-01  -9.91009236e-01  -1.91497879e+00\n",
        "  -5.48303018e-01   7.16658313e-01  -7.78806457e-01   9.59544248e-01\n",
        "  -2.32301749e-01  -1.08637412e+00   1.60492103e+00   1.47122001e-01\n",
        "  -7.04189563e-01  -1.70201312e-01   8.93865877e-01  -1.74837710e+00\n",
        "  -1.24337300e+00   1.00642032e-01   2.06392874e-01   1.68783455e+00\n",
        "   4.20054700e-01   1.31896311e-01   5.92074824e-01  -7.10164147e-01\n",
        "   1.71437222e+00   1.59627834e-01   3.08623316e-01  -5.92475415e-01\n",
        "   2.58914439e-01   7.63776850e-01  -1.00514551e+00  -3.57452680e-02\n",
        "   6.92486933e-02  -2.14252047e+00  -2.61211750e+00   6.16688843e-01\n",
        "  -4.90570351e-01   2.55344950e-01  -9.44293008e-01   4.41623843e-01\n",
        "  -7.71368527e-02   1.55711691e+00  -8.56557005e-01   1.48974620e+00\n",
        "   1.30413688e+00  -3.37474376e-01  -1.64267444e-02   9.22115160e-02\n",
        "  -4.46841863e-01  -2.78659556e+00   4.70835138e-01   5.74672407e-02\n",
        "  -5.28905089e-01   5.39339095e-01   1.02268449e+00  -1.64748692e-01\n",
        "   3.70512822e-01   9.86315589e-01  -1.95893015e-01   1.15495195e+00\n",
        "   1.47673328e+00   1.43658743e+00   2.04607036e+00  -3.35258478e-01\n",
        "  -3.44741931e-01  -8.27619500e-02   1.22065139e+00  -3.75982026e-01\n",
        "   1.61722286e+00  -9.15416282e-01  -4.78418374e-02  -2.19862373e+00\n",
        "   3.01133325e-01   5.38342901e-01   1.24490798e+00  -1.04650397e+00\n",
        "  -8.67310848e-01  -4.18300831e-01   1.23519287e+00  -1.09922322e+00\n",
        "  -2.20191341e-01  -8.27531991e-01   2.54890414e+00  -4.89331438e-01\n",
        "   5.36585762e-01  -3.85814952e-01  -4.57532666e-02   1.13614299e+00\n",
        "  -9.87056143e-01  -8.54519125e-01   5.87721116e-01  -1.61294365e+00\n",
        "   1.03662860e+00  -3.35197668e-01   4.24559423e-01  -2.52350648e-01\n",
        "  -2.18470376e+00  -2.80620370e-01   1.27317262e+00  -4.73777090e-01\n",
        "  -6.10021451e-01  -1.47358276e+00   6.96429742e-04   1.07595528e+00\n",
        "   1.22913172e+00  -5.03592358e-01  -5.23052199e-01   1.41079774e-01\n",
        "   3.49597933e-01  -3.41104861e-01   7.97780137e-01   1.90518985e+00\n",
        "  -7.56611607e-01   5.96098504e-01  -9.46128838e-01   5.41948080e-02\n",
        "   1.17554524e-01   5.63114394e-01  -1.19218229e+00  -5.08155200e-01\n",
        "   6.37562713e-01   1.88382844e+00   1.00905885e+00   2.67911091e-01\n",
        "   2.34382242e+00   3.81947275e-01   4.68267533e-01  -8.36566004e-01\n",
        "  -3.42953293e-01   7.90773878e-01   1.33655529e-01  -9.61228917e-01\n",
        "  -8.29214241e-01   1.03155813e+00  -6.98460054e-01  -1.38912194e-01\n",
        "  -1.52241567e+00   8.86011229e-01   1.57922337e+00   7.64723805e-01\n",
        "   6.83089724e-01  -1.39058014e+00   1.00270469e+00   9.60518046e-01\n",
        "   7.44743956e-02  -1.96802881e+00  -1.21694474e+00  -1.80831629e+00\n",
        "   8.78335650e-01   2.63272201e+00  -2.24695687e-01   4.76685043e-01\n",
        "   6.01956826e-02   5.70435536e-01   7.60800547e-01  -1.13133331e+00\n",
        "  -2.49902205e-01  -1.91531447e+00  -5.44456276e-01   8.17184857e-02\n",
        "  -3.00277122e+00  -1.32802087e+00  -5.76448801e-01   1.16534374e+00\n",
        "   1.21249462e+00   3.12050508e-01  -1.09947161e+00   1.42803454e+00\n",
        "  -1.57754824e+00  -8.60171134e-01  -6.95826846e-01  -3.82447625e-01\n",
        "  -4.75649468e-01  -1.58909454e+00   6.32417052e-01  -3.00188896e+00\n",
        "  -1.01455931e+00  -6.50182322e-01   1.20752235e+00  -3.08924737e-01\n",
        "   8.36852232e-01  -7.29579024e-01  -2.40473781e-01   1.00693595e+00\n",
        "   1.13416557e+00   4.65956190e-01   4.04169318e-01  -5.95934345e-01\n",
        "   1.12647403e+00  -5.18771987e-01  -2.99935541e-01   3.61595637e-01\n",
        "  -5.84694807e-01  -1.38387706e+00  -1.23057538e-01  -8.38099259e-01\n",
        "  -1.20149371e+00   4.90621383e-01  -4.60536599e-01   1.56697214e-01\n",
        "  -3.71899777e-01   2.77652203e+00   3.67374749e-01   6.69926229e-01\n",
        "  -2.78078908e+00   5.13593400e-01   2.49364819e-01  -8.47061618e-01\n",
        "   4.26004008e-01   7.36201228e-01  -5.45818619e-01   8.19828526e-01\n",
        "   5.40759585e-02  -1.15019223e+00  -7.83016178e-01   2.07378268e+00\n",
        "  -1.32033862e-01  -5.58841080e-01   8.39470745e-01  -1.77235989e+00\n",
        "  -4.59775816e-01  -1.17348381e+00  -1.32421167e+00  -2.76758137e-01\n",
        "   5.10854069e-01  -1.14209722e+00   8.44786858e-01  -1.50533003e-01\n",
        "  -7.07296477e-01   1.39624105e+00   2.86869026e+00   1.38121415e+00\n",
        "   1.67830662e+00   7.20442610e-01   1.01618668e+00   4.46502308e-02\n",
        "   7.86043300e-01   1.61937251e+00   4.03013643e-01   5.63931665e-01\n",
        "   6.37601800e-01   7.70505280e-01  -6.72132200e-01  -4.41816873e-01\n",
        "   1.78564605e-01   3.28606203e-02  -6.49576239e-01  -6.00616244e-01\n",
        "   1.36194211e+00  -6.45372680e-01   1.27298881e+00  -1.81929906e-02\n",
        "   1.18613858e+00  -3.24642083e-02   3.91869853e-01   9.50243805e-01\n",
        "   1.98417449e+00   3.70241645e-01  -5.73674153e-01   4.71431005e-01\n",
        "  -9.23511187e-01  -9.29522245e-01  -4.88664360e-02   1.28206405e+00\n",
        "  -1.41322332e+00  -5.61614737e-01   1.81232772e+00  -4.02337069e-01\n",
        "   2.13392507e+00   1.98747173e+00  -1.29787956e+00   1.32554685e-01\n",
        "  -4.48311614e-01   1.08971684e+00   1.26001664e+00  -6.85643927e-01\n",
        "   8.74694929e-01  -1.95806748e+00   2.08485923e-01   6.44038234e-01\n",
        "   7.79998071e-01   1.13016551e+00   8.71289196e-01   2.44372015e-03\n",
        "   5.01766094e-01  -2.24944664e+00   5.19843724e-01  -1.43709426e+00\n",
        "  -8.79942393e-02  -1.36693164e+00   1.00718345e+00  -2.88275949e-01\n",
        "  -1.78839040e+00  -1.30371395e+00  -6.69049353e-01   9.39497006e-01\n",
        "  -1.06961642e+00   2.47762877e+00   5.19414346e-01  -4.24397472e-01\n",
        "   6.90045499e-01   2.42400193e+00   9.25536538e-01   1.04109106e+00\n",
        "  -7.30342092e-01   1.63669944e-01   1.23937122e+00   6.05238105e-02\n",
        "  -1.31079229e+00   7.29888092e-01   8.16035737e-01  -2.08058893e+00\n",
        "  -9.72258587e-02  -3.79659750e-04   7.68576552e-01   1.21070024e+00\n",
        "  -1.55653580e+00   2.45427051e-01   8.51146748e-01   8.78181115e-01\n",
        "  -8.30525879e-01   2.80426714e+00  -7.32805680e-01  -2.30366138e+00\n",
        "   2.61977738e-01  -9.22773982e-01   1.81922372e+00   4.27551199e-02\n",
        "  -1.09562374e-01   7.46401395e-01   2.16954654e-01   1.55641850e-01\n",
        "  -4.07562187e-03   1.27141374e+00  -2.76591955e-01   1.31124897e+00\n",
        "   1.76563620e-01  -8.76327166e-02  -1.26785933e+00   9.16074911e-02\n",
        "  -4.81407341e-02  -1.22981480e-01  -4.91062756e-01  -3.45795575e-01\n",
        "   4.39495416e-02   4.17462066e-01   5.27397373e-01  -3.69843660e-01\n",
        "   4.28415174e-01   7.60633704e-01  -1.44383752e-01   2.22872087e-01\n",
        "  -9.25291447e-01   1.31571358e+00   1.27799323e+00   3.35427761e-01\n",
        "   7.49900598e-01  -1.45956959e+00   3.12194373e-01  -4.03505720e-01\n",
        "  -1.77317216e+00   1.44008013e-01  -1.18826427e+00  -2.98153403e-01\n",
        "   2.32900500e-02  -2.05853175e+00   2.21867399e+00  -4.31641328e-01\n",
        "  -1.18312151e+00   6.10890127e-01   6.11197077e-01   1.15354089e+00\n",
        "   1.30652736e+00  -1.12022340e+00   2.27418827e-01   5.65072848e-01\n",
        "  -4.84580579e-01  -7.27875464e-01   2.64132796e-01  -2.17198041e+00\n",
        "   1.32789985e+00   2.18131036e-01  -6.94158237e-01  -4.11784504e-01\n",
        "   1.46033427e+00  -7.96980044e-01  -9.21965592e-01   2.45269237e-01\n",
        "  -1.50007867e+00   2.22482505e-01  -4.31768280e-01   3.22687686e-01\n",
        "  -1.85930325e-02  -8.43703404e-01  -7.41261577e-01  -1.48105225e+00\n",
        "  -3.05805664e-01   5.62536893e-02   1.54907162e-01  -1.06005195e+00\n",
        "   4.82650703e-01  -8.54623335e-01   1.29958339e+00  -8.65238185e-01\n",
        "  -1.47854007e+00  -4.37657810e-01  -4.54473131e-01   2.70293420e+00\n",
        "  -1.49772929e-01   1.25550773e+00   2.27167121e-01  -3.51798418e-02\n",
        "   2.33202397e-01  -4.23385660e-01   1.90333387e-01   2.86365018e+00\n",
        "  -1.12724910e+00  -1.59811401e+00   6.26701859e-01  -1.95578313e-01\n",
        "  -7.81654692e-01   8.21232416e-01  -7.55449073e-01   5.00817159e-01\n",
        "   2.11722594e-01  -1.38209140e-01   1.32292848e-01   1.93366649e+00\n",
        "   4.84270502e-01  -2.28152399e+00  -2.54009887e-01  -9.10711985e-02\n",
        "  -1.96950119e-01   5.24381199e-01  -4.90798195e-01   1.32195205e+00\n",
        "  -2.57831509e-01  -1.68506704e-01   3.16265724e-02  -2.64282845e-01\n",
        "   1.77446831e+00  -4.98379404e-01  -9.10114171e-01   1.10799184e-01\n",
        "   1.02068919e+00  -1.13193951e+00   4.28999637e-01   4.02400181e-02\n",
        "  -9.29832712e-01   5.96698781e-01   2.38006059e-01   1.09624525e-01\n",
        "  -1.90367289e-01  -3.33847036e-01  -2.10508231e+00  -1.25773699e-01\n",
        "  -2.51985404e-01  -5.57119184e-01   8.23741062e-01  -5.90839318e-01\n",
        "   2.01357711e+00  -1.57682518e+00   5.96608842e-01  -1.99445561e-01\n",
        "  -7.51075225e-01  -5.51036484e-01   5.86301434e-02  -1.17588800e+00]\n",
        "0.0\n",
        "Final model:"
       ]
      },
      {
       "output_type": "stream",
       "stream": "stdout",
       "text": [
        "\n",
        "[ -6.10952724e-02  -1.68791166e-02   5.99101950e-03   5.87551852e-02\n",
        "  -7.63948514e-02  -6.47132346e-03  -7.78884587e-02   9.20332584e-02\n",
        "   4.44910685e-02  -1.27444573e-01   2.78377880e-02   4.08967597e-02\n",
        "  -1.78996746e-01   1.60383619e-01  -3.25070436e-02  -1.80925049e-01\n",
        "  -1.56291770e-02   1.87764011e-02   5.72003452e-02   8.85441117e-02\n",
        "   2.92629139e-02   8.99458236e-02  -2.40392914e-02   4.66287422e-02\n",
        "  -2.91354447e-04   6.91259343e-02   4.30584773e-02  -2.87991172e-02\n",
        "  -1.12270353e-01   4.84613972e-02  -4.84295314e-02   3.14787322e-02\n",
        "  -3.32728024e-02   7.39379285e-02  -8.70092511e-02   1.69212006e-02\n",
        "  -3.58936050e-02   3.62629790e-02   5.94241521e-02   8.97915882e-02\n",
        "  -1.31497622e-01   1.03366314e-01  -1.83262205e-01   4.56099816e-02\n",
        "  -5.79933594e-02   1.33715948e-02   1.06214091e-01  -6.96691935e-02\n",
        "   3.52060697e-02  -7.26042515e-02  -7.49406464e-02   8.89621242e-02\n",
        "  -9.59155943e-02   1.82325716e-01  -1.30937993e-01   2.05386210e-02\n",
        "   1.95514858e-01  -1.60439306e-02   8.97220591e-02  -9.89963018e-02\n",
        "  -5.63947877e-02   1.68999887e-01  -1.62513870e-01  -1.32052829e-01\n",
        "   1.93170388e-02  -1.78102804e-02   2.15740687e-02  -1.26605723e-01\n",
        "   1.02945011e-02   4.96458103e-02   1.02500104e-01   3.08829848e-03\n",
        "  -4.21232969e-02   1.30477178e-01  -1.30706377e-01   4.06623846e-03\n",
        "   4.67943506e-03  -9.47718505e-02  -5.47113826e-02   3.35659572e-02\n",
        "  -6.81875716e-02   9.27717604e-02   2.25087656e-01  -1.37734231e-01\n",
        "   4.35398762e-02  -7.77964735e-02   2.29133632e-01  -3.51145182e-02\n",
        "  -1.34593737e-01   4.38194943e-02   3.76873029e-02  -1.16239820e-01\n",
        "  -1.14702038e-02   1.36895934e-02   1.30519712e-01  -3.45190255e-02\n",
        "   1.77969777e-01   3.56750541e-02  -3.63558871e-02  -3.26077054e-02\n",
        "   7.91591129e-02   1.06095435e-01  -1.10762086e-01  -6.98155744e-02\n",
        "   4.19002162e-02   3.41751627e-03   9.74430343e-02  -5.36938929e-02\n",
        "  -9.20076569e-02   5.75255890e-02  -3.28845018e-02   5.28623748e-02\n",
        "   1.79003075e-02  -5.61824461e-02  -7.20069906e-02   2.98634849e-02\n",
        "   8.01117193e-02  -1.47947063e-01  -1.90571780e-02   3.69166132e-02\n",
        "  -1.58327446e-02   1.69453734e-01  -7.50460738e-02  -5.28045073e-02\n",
        "  -1.33506672e-02   5.76825139e-02   1.81770593e-01  -2.90424370e-01\n",
        "   6.44041456e-02  -1.24360374e-01  -1.66020726e-01   7.22144180e-03\n",
        "   6.91227816e-03  -2.68026029e-02   3.24654700e-03  -2.12693075e-01\n",
        "   4.17001745e-02   1.66671895e-01  -5.96458630e-02   7.73152937e-02\n",
        "  -6.08540497e-02   6.41265200e-03   4.82444432e-02  -7.32079454e-02\n",
        "   1.20252065e-02  -1.17041990e-01   1.27701596e-01  -1.10092763e-01\n",
        "   8.73319714e-02  -4.10134590e-02   8.88511392e-02   1.02806862e-01\n",
        "  -1.36612142e-02  -7.62398479e-02   3.35060598e-02  -1.04045649e-01\n",
        "  -2.62689122e-02   1.14838128e-02   1.53599226e-01  -3.65310504e-02\n",
        "   1.47814806e-01  -2.79707452e-02   1.21203535e-01   2.84996466e-02\n",
        "   4.84040706e-03  -9.52553096e-02   1.56114033e-03   1.18548826e-01\n",
        "  -7.55494647e-02   6.03402962e-04  -1.44195430e-01  -4.93992071e-02\n",
        "  -3.98189555e-02   9.98942095e-02  -8.08786589e-02  -1.61601141e-01\n",
        "   3.40006493e-02  -6.26663835e-02   2.11331537e-02   4.49084890e-02\n",
        "  -1.04249380e-01  -6.74250148e-02   9.63128532e-02  -1.23752720e-01\n",
        "   4.91749633e-02   6.90664351e-02   1.09726098e-01  -1.04673393e-01\n",
        "   1.43008730e-02  -2.79597861e-02  -1.63203215e-01   1.12138317e-01\n",
        "  -4.93841222e-02  -1.47792546e-01  -6.15287837e-02   2.35607887e-01\n",
        "  -7.94337589e-02  -5.55763845e-02  -9.26320467e-03   1.71274621e-01\n",
        "   2.33992643e-02   1.49807497e-02   1.78475527e-02   2.35526219e-01\n",
        "   1.23849592e-01   1.06835808e-01   1.77285135e-02   7.18797487e-02\n",
        "   3.23135902e-02  -8.14427460e-02   7.11661205e-02  -1.50325837e-01\n",
        "   1.43972925e-01  -1.30628633e-02  -8.93910484e-03  -1.43577871e-02\n",
        "   1.19608498e-01  -3.00383634e-02  -4.52359404e-02   4.59439121e-02\n",
        "   1.48357042e-01   1.83432075e-02   8.47998658e-02   5.68313824e-02\n",
        "  -2.79518152e-02   8.73220034e-03   2.38038975e-01   3.72120004e-02\n",
        "  -7.28610034e-02  -7.11324810e-02  -6.99673503e-02  -7.47786132e-02\n",
        "  -9.52704231e-02  -8.28409186e-02  -5.93162248e-02  -3.29302037e-02\n",
        "   1.16594372e-01  -1.39872425e-01  -8.65188046e-02  -1.56009121e-02\n",
        "   6.86530417e-03  -8.75097762e-02   2.02822503e-01   9.66316192e-02\n",
        "   2.77985426e-03  -2.09343552e-02   2.07827864e-01  -7.77885441e-02\n",
        "  -9.94887083e-02  -5.48489406e-02  -4.23754503e-02   4.11876386e-02\n",
        "   1.38550791e-01  -9.84656782e-02  -1.18132879e-01  -1.29034400e-01\n",
        "   6.81961149e-03  -6.58121447e-02   1.14553453e-01   4.40105333e-03\n",
        "   2.94851755e-03  -1.39831363e-01  -8.04735507e-03  -2.07874397e-02\n",
        "   6.91332401e-02   6.01806138e-02   1.85107241e-02   5.17190167e-02\n",
        "  -2.16846476e-02   1.42974556e-01   6.59844793e-03   4.49646209e-02\n",
        "  -1.16298868e-01   9.76101793e-02   5.33734081e-02  -6.58224749e-02\n",
        "  -7.55755326e-02  -6.11537249e-02  -9.67416733e-02  -6.66760853e-02\n",
        "  -9.78719087e-02   1.30816182e-01  -3.76313131e-02   1.97381864e-01\n",
        "   1.40806229e-01   3.19693420e-02  -7.83653628e-02  -1.28172769e-01\n",
        "   2.39873605e-02  -4.08188118e-02  -8.02678944e-02  -1.30262783e-01\n",
        "   7.56534954e-02   1.05682550e-02  -1.92251667e-01  -5.82977517e-02\n",
        "  -3.72709360e-02  -9.20695252e-02   1.26318844e-03  -9.89532794e-02\n",
        "  -7.91557334e-02  -2.85272064e-02   1.56508930e-01   2.65711797e-02\n",
        "  -9.75952717e-03  -6.55606987e-03  -1.36311468e-01  -1.45009929e-01\n",
        "  -2.13074743e-01  -5.49230021e-02   1.01775000e-01   2.63641689e-02\n",
        "  -6.74680641e-02  -1.33528194e-01  -2.26327500e-02  -7.13395609e-03\n",
        "   5.05487328e-02  -1.32618710e-01   1.01012686e-01  -1.07816100e-01\n",
        "   3.97574165e-02   5.55384558e-02  -4.44842437e-02  -3.80898753e-03\n",
        "  -6.90469098e-02   7.65263492e-02   5.65693332e-02  -4.77049998e-02\n",
        "  -5.38062700e-02   1.03667756e-01   1.28909711e-01   5.18673163e-03\n",
        "   1.96721609e-01  -3.53147446e-02  -3.47392988e-02  -9.49936317e-02\n",
        "  -2.17827324e-01   2.63039458e-02  -1.23453345e-02   4.16564905e-02\n",
        "  -2.52964617e-02  -3.99482695e-02   1.97446876e-01  -4.89488018e-02\n",
        "  -9.50486706e-03  -1.92827373e-01  -4.40456053e-03  -1.92530470e-02\n",
        "   5.77235598e-02  -1.63215166e-01   5.88484973e-02  -3.92296620e-02\n",
        "  -3.88245056e-02  -1.19196773e-01  -2.46117997e-02  -3.21199429e-02\n",
        "   8.76235412e-02   5.97448983e-02   4.37262551e-02  -4.16305662e-02\n",
        "   8.10942685e-02   1.94988711e-02  -3.93582320e-02   4.39561955e-02\n",
        "  -9.88256337e-02   2.56215323e-01  -4.25733049e-02   4.19184640e-03\n",
        "   1.68969272e-01   1.40302109e-02   1.07593390e-01  -1.96811644e-01\n",
        "  -7.58027873e-02  -1.55658589e-01  -5.99772198e-02   1.54213021e-01\n",
        "   7.98528741e-02   6.07392250e-03   1.41854532e-02   8.05432634e-02\n",
        "  -7.04111168e-02   3.42629778e-02   8.04435659e-02   1.59114378e-01\n",
        "  -1.53672192e-01  -3.40249867e-02  -1.42755303e-01   1.59646122e-01\n",
        "   1.03595451e-01   1.95670261e-01   6.44854607e-03   1.06254288e-02\n",
        "   1.09158947e-01   3.10960146e-02  -1.10604856e-02  -1.17064853e-02\n",
        "   5.23937898e-02  -7.77790357e-02   1.79709168e-01  -2.41557476e-02\n",
        "  -1.56084154e-01  -2.23153663e-02  -2.15612083e-01  -9.68755228e-02\n",
        "   1.84933199e-02  -7.63051043e-02   1.13006560e-01  -7.53367341e-02\n",
        "  -2.25842969e-02  -7.26307874e-02  -1.13335355e-01   1.28930336e-01\n",
        "   1.50186742e-01  -7.17838757e-02   6.17980811e-02   1.88855169e-02\n",
        "  -1.54487165e-01  -3.67634106e-02   1.00089475e-01  -1.45812972e-01\n",
        "   1.32213619e-01  -1.40024787e-02   2.12345272e-02   1.45436203e-01\n",
        "   5.88667297e-02   9.17337185e-02  -2.23265317e-02   4.44607080e-02\n",
        "   1.04842273e-01  -2.14715178e-02   1.35997845e-01  -7.53229684e-02\n",
        "  -1.28685963e-01   1.08541418e-02  -4.73276029e-02   1.61670233e-01\n",
        "   1.35556786e-01   9.08431564e-03  -1.68168537e-02   4.84837468e-02\n",
        "  -8.38084902e-02   1.57893551e-02  -2.92439409e-02  -7.15917614e-02\n",
        "   2.07766037e-01  -8.06443708e-02  -5.96020223e-02  -8.40245810e-02\n",
        "  -1.99818233e-01  -5.78321150e-02   1.47428339e-05  -1.25570252e-01\n",
        "  -5.74058547e-02   1.06140796e-01  -4.08214112e-02   1.45555473e-01\n",
        "   6.81163001e-02   2.71260739e-02   3.21576254e-02   1.38150909e-01\n",
        "   9.76360565e-02  -1.18137447e-01   2.47625923e-02  -2.58998105e-02\n",
        "  -6.25215546e-02   1.32244379e-01  -1.08438542e-01  -9.21658066e-02\n",
        "   4.19152522e-02  -8.54202567e-02   1.17688603e-01   9.93775164e-03\n",
        "   7.85237752e-02   8.20815404e-02  -3.90690058e-02  -2.29848416e-02\n",
        "   2.75201394e-02  -9.58337685e-02  -9.95286579e-02  -5.64879814e-02\n",
        "   1.24346299e-02  -2.47805558e-02   6.37134614e-02  -1.02451265e-01\n",
        "   1.17668202e-01   2.24497182e-02   3.99229561e-02  -1.63483433e-02\n",
        "  -3.67666292e-02  -4.67313895e-02  -6.21300557e-02  -1.69341149e-02\n",
        "  -3.70525729e-02   1.06774925e-01  -6.89603579e-02   8.93322096e-02\n",
        "   7.43951265e-03  -1.14151329e-01  -5.12910556e-02  -6.87998586e-02\n",
        "  -4.38624414e-02   4.25753748e-02  -1.91213732e-01  -5.71854509e-02\n",
        "   6.32403520e-02  -4.59994751e-02  -3.88599111e-02  -1.84319647e-02\n",
        "   7.32167079e-02  -1.20215620e-01  -9.13033860e-02  -2.57967102e-02\n",
        "   8.83553104e-02   7.81804114e-02  -1.33514139e-01  -7.02534187e-03\n",
        "   1.95621531e-02   2.46339038e-01   6.03119607e-02   1.01796533e-01\n",
        "   1.69784163e-01   3.12969091e-02  -4.95212365e-02  -4.47143436e-02\n",
        "   1.38946173e-02  -5.36702489e-02   1.79890289e-01  -1.65807778e-01\n",
        "  -5.06783136e-02  -9.23305578e-02  -1.47425295e-01   1.18354729e-01\n",
        "  -3.61637187e-02   1.71359308e-03   1.26810720e-01   1.41419615e-01\n",
        "   1.11169351e-01  -1.79142669e-02  -1.47538505e-02   6.75397836e-02\n",
        "  -8.89176867e-02  -1.63931627e-02  -2.31262480e-02   7.07226857e-02\n",
        "   1.98912330e-01   1.50703001e-01  -1.27755300e-01  -8.90743180e-02\n",
        "  -4.80676598e-02  -1.18078463e-02  -1.66156457e-01   2.57990309e-02\n",
        "  -2.58662872e-02   1.97523158e-01   1.59418611e-02   2.18076344e-02\n",
        "   4.95614559e-02   9.34707963e-03   1.72378910e-02   2.84828775e-02\n",
        "  -9.52938391e-02  -1.73797543e-02   7.32741610e-03   1.80380821e-01\n",
        "   3.31175447e-02   1.91458600e-01  -2.68154305e-02  -5.27278807e-02\n",
        "  -2.09998495e-02  -1.53453778e-01   1.22891579e-02   9.18080200e-02\n",
        "  -1.62858268e-02   1.98203895e-01   7.53458129e-02   2.16146580e-02\n",
        "  -1.76240087e-01   1.58118951e-01   1.35921220e-01   1.25427823e-01\n",
        "   3.46931613e-02   7.51019990e-02   7.74657128e-02  -3.17034836e-03\n",
        "   8.66912094e-02  -4.81992190e-02  -1.85618214e-01  -2.92460011e-02\n",
        "  -1.15954019e-01  -3.43796381e-02  -6.49638992e-02   3.85649768e-02\n",
        "   9.43407322e-02   8.31883157e-02  -1.21678137e-01  -4.25286223e-02\n",
        "  -2.51615615e-02   1.66577000e-01  -5.10562421e-02  -1.58285731e-01\n",
        "   1.12584222e-01  -1.49023160e-02  -6.68198720e-02  -5.46917724e-02\n",
        "   9.69298028e-04  -3.54610146e-02  -2.46430927e-01  -1.43406542e-01\n",
        "  -1.70364777e-01  -5.14636119e-02   1.74015202e-01   7.85907744e-02\n",
        "  -1.23805751e-01  -5.28066018e-02  -5.33682638e-02   1.91896467e-02\n",
        "   4.63907908e-02  -1.33487437e-01   1.20950868e-01  -1.47529985e-02\n",
        "   8.54861272e-02  -3.16345435e-02   1.72155884e-02   7.51838986e-02\n",
        "  -1.38778330e-01   6.09967577e-02  -7.30405509e-02  -8.38307808e-03\n",
        "  -1.15203975e-01   7.97021765e-02   9.88399961e-02   9.21050152e-02\n",
        "   6.59575238e-03  -1.74655971e-03  -3.17886327e-02   1.03806501e-01\n",
        "  -5.42552192e-02  -8.97964005e-02  -3.33669945e-02   2.24225670e-02\n",
        "  -1.46018299e-01  -5.34881562e-02   4.87689417e-02  -4.01330156e-04\n",
        "   1.31602403e-01  -6.06521530e-02   4.68550732e-03   1.44385306e-01\n",
        "  -2.16398034e-01   1.97484310e-01  -1.14287692e-01   1.43224225e-01\n",
        "   2.20668975e-02  -6.71960035e-02  -9.52900083e-02   8.71901657e-02\n",
        "  -5.39391107e-02   6.67806069e-02  -1.31571635e-01   9.85589321e-02\n",
        "   1.15460861e-01  -5.55866872e-02  -1.08533478e-01   1.18459630e-01\n",
        "  -2.39259576e-01   7.42809263e-02  -3.17276998e-03  -8.42358311e-02\n",
        "   2.43641691e-01   9.59710144e-02  -3.63256391e-01   9.33548535e-02\n",
        "  -3.25249386e-02  -3.47218593e-03   5.24016664e-02   1.49541142e-01\n",
        "   7.31491168e-03   5.69053630e-04   1.37514706e-01   1.26698886e-01\n",
        "  -1.50263876e-02   1.20716376e-01   2.71449223e-02   1.09945800e-01\n",
        "   1.64523984e-01   8.91596710e-02   9.00298787e-02   9.75042714e-02\n",
        "  -1.18758006e-01  -1.73713478e-02  -4.43956342e-02  -1.72438144e-01\n",
        "  -2.07771724e-01  -2.35893322e-02   3.62805317e-02  -1.01676818e-01\n",
        "  -4.33846317e-02  -6.99481815e-02   4.96551416e-02   1.09798644e-01\n",
        "   2.21839684e-02  -5.18958613e-02  -2.64448986e-01   1.34917152e-01\n",
        "  -1.06799277e-01   1.15976022e-01   1.29783059e-01   1.36570591e-01\n",
        "  -1.16882446e-01   6.42376969e-02  -4.42101422e-02  -4.38806500e-02\n",
        "   1.19688573e-01   2.73130892e-02  -1.29595033e-01   5.31914392e-02\n",
        "  -2.58931410e-03  -2.72050428e-01   6.38100067e-02   4.68637736e-02\n",
        "   5.08596603e-02   4.34680290e-02  -2.86148169e-02   1.04725840e-01\n",
        "  -1.79648143e-01  -8.22403293e-02  -1.37403853e-01   7.55789123e-02\n",
        "   7.62612640e-02  -1.00113765e-01  -1.46982348e-01   1.51108490e-02\n",
        "  -4.79910502e-03   4.89819455e-04   2.11639019e-02  -3.50826143e-02\n",
        "   2.75087387e-02  -1.64886161e-01   2.36697080e-01  -4.02042601e-02\n",
        "   1.35200345e-02   2.26891694e-02  -1.53765264e-02   8.73262557e-02\n",
        "   6.93495243e-02  -7.30348045e-02  -4.61575700e-02  -6.38104231e-02\n",
        "  -1.10060085e-01   3.80596038e-02  -1.13909572e-01  -6.78958010e-02\n",
        "   1.10998680e-01  -1.14657555e-01   7.86827960e-02  -2.71298770e-01\n",
        "  -5.25678177e-02   5.22004926e-02   6.74166485e-02   9.09406833e-02\n",
        "  -2.68052626e-02  -8.98218052e-02  -3.91698742e-02  -2.53967042e-02\n",
        "   1.62356673e-02  -9.41791161e-03   7.52913405e-02  -3.82764131e-02\n",
        "  -1.15571448e-01  -5.63152765e-02   5.06130107e-02   2.33641724e-01\n",
        "   7.56362233e-02   1.31369360e-01  -1.00638448e-02  -7.74218286e-02\n",
        "  -1.55292661e-01  -5.73552078e-02   1.25007026e-02   3.50791538e-02\n",
        "  -1.03478045e-01  -1.14728670e-01   2.62403481e-02  -7.71914474e-04]\n",
        "-0.124863708785\n",
        "target values for D:\n",
        "[0 0 0 1 0 0 0 1 0 0 0 0 0 0 0 1 1 0 0 0 1 1 0 0 0 0 1 1 0 0 1 1 0 1 0 0 1\n",
        " 1 0 0 1 1 0 0 1 1 1 1 1 1 1 0 0 0 1 0 0 1 0 1 0 1 0 0 0 1 0 1 1 0 1 1 0 0\n",
        " 1 1 0 1 0 1 0 0 1 0 1 1 1 1 0 0 1 1 1 1 0 1 1 1 1 0 0 1 0 0 1 1 1 0 0 1 1\n",
        " 0 0 1 0 1 0 0 1 0 1 0 1 0 0 0 0 1 1 0 0 0 0 1 1 1 0 1 0 1 0 0 0 0 1 1 1 1\n",
        " 1 1 0 0 1 0 1 1 1 1 1 0 0 0 0 0 1 0 0 1 0 0 0 1 0 1 1 1 1 1 0 0 1 0 1 0 0\n",
        " 0 1 1 1 0 1 1 0 0 0 1 1 1 1 0 1 1 1 1 0 1 0 0 0 1 1 0 0 1 1 1 1 0 0 1 1 0\n",
        " 0 1 1 0 1 1 0 0 1 1 0 0 1 0 1 1 0 0 0 1 1 0 0 0 1 1 1 1 0 0 0 1 1 0 1 0 0\n",
        " 1 1 0 0 0 0 1 0 0 1 1 1 0 0 1 0 1 1 1 0 0 0 1 0 0 1 1 0 0 1 0 0 0 0 1 1 1\n",
        " 0 0 0 1 0 0 0 0 1 0 1 0 1 1 1 1 0 1 1 0 0 1 1 0 1 0 0 1 0 1 0 0 1 1 1 1 1\n",
        " 1 0 0 1 1 0 0 1 1 1 1 1 1 0 0 0 0 1 0 1 0 0 0 0 1 1 0 0 0 1 1 1 0 1 0 1 1\n",
        " 1 1 1 0 1 0 1 1 0 1 1 1 0 0 1 1 0 1 0 0 1 1 0 0 0 0 1 1 0 0]\n",
        "prediction on D:\n",
        "[0 0 0 1 0 0 0 1 0 0 0 0 0 0 0 1 1 0 0 0 1 1 0 0 0 0 1 1 0 0 1 1 0 1 0 0 1\n",
        " 1 0 0 1 1 0 0 1 1 1 1 1 1 1 0 0 0 1 0 0 1 0 1 0 1 0 0 0 1 0 1 1 0 1 1 0 0\n",
        " 1 1 0 1 0 1 0 0 1 0 1 1 1 1 0 0 1 1 1 1 0 1 1 1 1 0 0 1 0 0 1 1 1 0 0 1 1\n",
        " 0 0 1 0 1 0 0 1 0 1 0 1 0 0 0 0 1 1 0 0 0 0 1 1 1 0 1 0 1 0 0 0 0 1 1 1 1\n",
        " 1 1 0 0 1 0 1 1 1 1 1 0 0 0 0 0 1 0 0 1 0 0 0 1 0 1 1 1 1 1 0 0 1 0 1 0 0\n",
        " 0 1 1 1 0 1 1 0 0 0 1 1 1 1 0 1 1 1 1 0 1 0 0 0 1 1 0 0 1 1 1 1 0 0 1 1 0\n",
        " 0 1 1 0 1 1 0 0 1 1 0 0 1 0 1 1 0 0 0 1 1 0 0 0 1 1 1 1 0 0 0 1 1 0 1 0 0\n",
        " 1 1 0 0 0 0 1 0 0 1 1 1 0 0 1 0 1 1 1 0 0 0 1 0 0 1 1 0 0 1 0 0 0 0 1 1 1\n",
        " 0 0 0 1 0 0 0 0 1 0 1 0 1 1 1 1 0 1 1 0 0 1 1 0 1 0 0 1 0 1 0 0 1 1 1 1 1\n",
        " 1 0 0 1 1 0 0 1 1 1 1 1 1 0 0 0 0 1 0 1 0 0 0 0 1 1 0 0 0 1 1 1 0 1 0 1 1\n",
        " 1 1 1 0 1 0 1 1 0 1 1 1 0 0 1 1 0 1 0 0 1 1 0 0 0 0 1 1 0 0]"
       ]
      },
      {
       "output_type": "stream",
       "stream": "stdout",
       "text": [
        "\n"
       ]
      }
     ],
     "prompt_number": 61
    },
    {
     "cell_type": "code",
     "collapsed": false,
     "input": [],
     "language": "python",
     "metadata": {},
     "outputs": []
    }
   ],
   "metadata": {}
  }
 ]
}