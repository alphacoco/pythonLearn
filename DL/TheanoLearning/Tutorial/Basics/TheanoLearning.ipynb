{
 "metadata": {
  "name": ""
 },
 "nbformat": 3,
 "nbformat_minor": 0,
 "worksheets": [
  {
   "cells": [
    {
     "cell_type": "heading",
     "level": 1,
     "metadata": {},
     "source": [
      "BASICs"
     ]
    },
    {
     "cell_type": "markdown",
     "metadata": {},
     "source": [
      "## ex0. Install Theano\n",
      "```\n",
      "    $ sudo pip install Theano\n",
      "```"
     ]
    },
    {
     "cell_type": "markdown",
     "metadata": {},
     "source": [
      "## ex1: Adding two Scalars"
     ]
    },
    {
     "cell_type": "code",
     "collapsed": false,
     "input": [
      "from theano import function\n",
      "import theano.tensor as T\n",
      "\n",
      "# declare two symbolic floating-point scalars\n",
      "a = T.dscalar('a')\n",
      "b = T.dscalar('a')\n",
      "\n",
      "# create a simple expression\n",
      "c = a + b\n",
      "\n",
      "# convert the expression into a callable object that takes (a,b)\n",
      "# values as input and computes a value for c\n",
      "f = function([a, b], c)\n",
      "\n",
      "#bind 1.5 to 'a', 2.5 to 'b', and evaluate 'c'\n",
      "result = f(1.5, 2.5)\n",
      "\n",
      "print(result)"
     ],
     "language": "python",
     "metadata": {},
     "outputs": [
      {
       "output_type": "stream",
       "stream": "stdout",
       "text": [
        "4.0\n"
       ]
      }
     ],
     "prompt_number": 35
    },
    {
     "cell_type": "markdown",
     "metadata": {},
     "source": [
      "#### note:\n",
      "- declare variables (a,b) and give their types\n",
      "- build expressions for how to put those variables together\n",
      "- compile expression graphs to functions in order to use them for computation."
     ]
    },
    {
     "cell_type": "heading",
     "level": 3,
     "metadata": {},
     "source": [
      "step1"
     ]
    },
    {
     "cell_type": "code",
     "collapsed": false,
     "input": [
      "#define two symbols\n",
      "import theano.tensor as T\n",
      "\n",
      "a = T.dscalar('a')\n",
      "b = T.dscalar('b')\n",
      "\n",
      "print('type(a): ', type(a))\n",
      "print('a.type: ',a.type)\n",
      "print('T.dscalar: ',T.dscalar)\n",
      "print('a.type is T.dscalar: ',a.type is T.dscalar)"
     ],
     "language": "python",
     "metadata": {},
     "outputs": [
      {
       "output_type": "stream",
       "stream": "stdout",
       "text": [
        "type(a):  <class 'theano.tensor.var.TensorVariable'>\n",
        "a.type:  TensorType(float64, scalar)\n",
        "T.dscalar:  TensorType(float64, scalar)\n",
        "a.type is T.dscalar:  True\n"
       ]
      }
     ],
     "prompt_number": 23
    },
    {
     "cell_type": "markdown",
     "metadata": {},
     "source": [
      "#### note\n",
      "- `T.dscalar` is the type we assign to \"0-dimensional arrays(scalar) of doubles(d)\""
     ]
    },
    {
     "cell_type": "heading",
     "level": 3,
     "metadata": {},
     "source": [
      "step2"
     ]
    },
    {
     "cell_type": "code",
     "collapsed": false,
     "input": [
      "import theano.tensor as T\n",
      "from theano import pp\n",
      "\n",
      "a = T.dscalar('a')\n",
      "b = T.dscalar('b')\n",
      "\n",
      "# combine a and b into their sum c\n",
      "c = a + b\n",
      "\n",
      "print('print: ',c)\n",
      "print('pretty-print: ',pp(c))"
     ],
     "language": "python",
     "metadata": {},
     "outputs": [
      {
       "output_type": "stream",
       "stream": "stdout",
       "text": [
        "print:  Elemwise{add,no_inplace}.0\n",
        "pretty-print:  (a + b)\n"
       ]
      }
     ],
     "prompt_number": 29
    },
    {
     "cell_type": "heading",
     "level": 3,
     "metadata": {},
     "source": [
      "step3"
     ]
    },
    {
     "cell_type": "code",
     "collapsed": false,
     "input": [
      "import theano.tensor as T\n",
      "from theano import function\n",
      "\n",
      "a = T.dscalar('a')\n",
      "b = T.dscalar('b')\n",
      "c = a + b\n",
      "\n",
      "# create a function taking a and b as inputs and giving c as output\n",
      "f = function([a, b], c)\n",
      "\n",
      "print('type(f): ',type(f))"
     ],
     "language": "python",
     "metadata": {},
     "outputs": [
      {
       "output_type": "stream",
       "stream": "stdout",
       "text": [
        "type(f):  <class 'theano.compile.function_module.Function'>\n"
       ]
      }
     ],
     "prompt_number": 39
    },
    {
     "cell_type": "markdown",
     "metadata": {},
     "source": [
      "#### note :\n",
      "- The output of the function f is a numpy.ndarray with zero dimensions(scalar)."
     ]
    },
    {
     "cell_type": "markdown",
     "metadata": {},
     "source": [
      "[see more](http://deeplearning.net/software/theano/tutorial/adding.html)"
     ]
    },
    {
     "cell_type": "heading",
     "level": 2,
     "metadata": {},
     "source": [
      "ex2: Adding two Matrices"
     ]
    },
    {
     "cell_type": "code",
     "collapsed": false,
     "input": [
      "import theano.tensor as T\n",
      "from theano import function\n",
      "\n",
      "A = T.dmatrix('A')\n",
      "B = T.dmatrix('B')\n",
      "C = A + B\n",
      "f = function([A, B], C)\n",
      "\n",
      "A = [[1, 2],\n",
      "     [3, 4]]\n",
      "B = [[10, 20], \n",
      "     [30, 40]]\n",
      "f(A, B)"
     ],
     "language": "python",
     "metadata": {},
     "outputs": [
      {
       "metadata": {},
       "output_type": "pyout",
       "prompt_number": 63,
       "text": [
        "array([[ 11.,  22.],\n",
        "       [ 33.,  44.]])"
       ]
      }
     ],
     "prompt_number": 63
    },
    {
     "cell_type": "markdown",
     "metadata": {},
     "source": [
      "[see more](http://deeplearning.net/software/theano/tutorial/adding.html)"
     ]
    },
    {
     "cell_type": "heading",
     "level": 2,
     "metadata": {},
     "source": [
      "ex3: Graph Structures"
     ]
    },
    {
     "cell_type": "heading",
     "level": 3,
     "metadata": {},
     "source": [
      "Code:"
     ]
    },
    {
     "cell_type": "code",
     "collapsed": false,
     "input": [
      "import theano.tensor as T\n",
      "\n",
      "X = T.dmatrix('X')\n",
      "Y = T.dmatrix('Y')\n",
      "Z = X + Y"
     ],
     "language": "python",
     "metadata": {},
     "outputs": [],
     "prompt_number": 64
    },
    {
     "cell_type": "heading",
     "level": 3,
     "metadata": {},
     "source": [
      "Diagram:"
     ]
    },
    {
     "cell_type": "markdown",
     "metadata": {},
     "source": [
      "![](http://deeplearning.net/software/theano/_images/apply.png)"
     ]
    },
    {
     "cell_type": "markdown",
     "metadata": {},
     "source": [
      "#### note:\n",
      "- Theano represents symbolic mathematical computations as graphs.\n",
      "- Arrows represent references to the Python object pointed at.\n",
      "- Note that the `Apply` instance's outputs points to `Z`, and `Z.owner` points back to the `Apply` instance"
     ]
    },
    {
     "cell_type": "markdown",
     "metadata": {},
     "source": [
      "- An `Apply` node is typically an instance of the `Applay` class.\n",
      "- An `Apply` node is Theano's version of a function call whereas an `Op` is Theano's version of a function definition.\n",
      "- Code going like `def f(x): ...` would produce an Op for f whereas code like `a = f(x)` or `g(f(2), 3)` would produce an Apply node involving th `f` Op."
     ]
    },
    {
     "cell_type": "markdown",
     "metadata": {},
     "source": [
      "[see more](http://deeplearning.net/software/theano/extending/graphstructures.html#graphstructures)"
     ]
    },
    {
     "cell_type": "heading",
     "level": 2,
     "metadata": {},
     "source": [
      "ex4: Traversing the graph"
     ]
    },
    {
     "cell_type": "code",
     "collapsed": false,
     "input": [
      "import theano\n",
      "import theano.tensor as T\n",
      "X = T.dmatrix('X')\n",
      "Y = X * 2\n",
      "\n",
      "print('Y.owner: ', type(Y.owner))\n",
      "print('Y.owner.op.name: ', Y.owner.op.name)                # elementwise multiplication\n",
      "print()\n",
      "print('length of Y.owner.inputs: ', len(Y.owner.inputs))\n",
      "print('Y.owner.inputs[0]: ', Y.owner.inputs[0])\n",
      "print('Y.owner.inputs[1]: ', Y.owner.inputs[1])            # Note that the second input is not 2 as we would have expected\n",
      "print()\n",
      "print('Y.owner.inputs[1]: ', type(Y.owner.inputs[1]))\n",
      "print('Y.owner.inputs[1].owner: ', type(Y.owner.inputs[1].owner))\n",
      "print('Y.owner.inputs[1].owner.op: ', Y.owner.inputs[1].owner.op)\n",
      "print('Y.owner.inputs[1].owner.inputs: ', Y.owner.inputs[1].owner.inputs)"
     ],
     "language": "python",
     "metadata": {},
     "outputs": [
      {
       "output_type": "stream",
       "stream": "stdout",
       "text": [
        "Y.owner:  <class 'theano.gof.graph.Apply'>\n",
        "Y.owner.op.name:  Elemwise{mul,no_inplace}\n",
        "\n",
        "length of Y.owner.inputs:  2\n",
        "Y.owner.inputs[0]:  X\n",
        "Y.owner.inputs[1]:  DimShuffle{x,x}.0\n",
        "\n",
        "Y.owner.inputs[1]:  <class 'theano.tensor.var.TensorVariable'>\n",
        "Y.owner.inputs[1].owner:  <class 'theano.gof.graph.Apply'>\n",
        "Y.owner.inputs[1].owner.op:  DimShuffle{x,x}\n",
        "Y.owner.inputs[1].owner.inputs:  [TensorConstant{2}]\n"
       ]
      }
     ],
     "prompt_number": 80
    },
    {
     "cell_type": "markdown",
     "metadata": {},
     "source": [
      "#### traversing graph\n",
      "![](https://github.com/alphacoco/pythonLearn/blob/master/DL/TheanoLearning/Tutorial/Basics/TraversingGraph.png?raw=true)"
     ]
    },
    {
     "cell_type": "markdown",
     "metadata": {},
     "source": [
      "[see more](http://deeplearning.net/software/theano/extending/graphstructures.html#graphstructures)"
     ]
    },
    {
     "cell_type": "heading",
     "level": 2,
     "metadata": {},
     "source": [
      "ex5: Optimizations"
     ]
    },
    {
     "cell_type": "code",
     "collapsed": false,
     "input": [
      "import theano\n",
      "import theano.tensor as T\n",
      "\n",
      "a = T.vector('a')\n",
      "b = a + a ** 10\n",
      "f = theano.function([a], b)\n",
      "\n",
      "print(f([0, 1, 2]))\n",
      "\n",
      "theano.printing.pydotprint(b, outfile = './pics/symbolic_graph_unopt.png', var_with_name_simple = True)\n",
      "theano.printing.pydotprint(f, outfile = './pics/symbolic_graph_opt.png', var_with_name_simple = True)"
     ],
     "language": "python",
     "metadata": {},
     "outputs": [
      {
       "output_type": "stream",
       "stream": "stdout",
       "text": [
        "[    0.     2.  1026.]\n",
        "The output file is available at"
       ]
      },
      {
       "output_type": "stream",
       "stream": "stdout",
       "text": [
        " ./pics/symbolic_graph_unopt.png\n",
        "The output file is available at ./pics/symbolic_graph_opt.png\n"
       ]
      }
     ],
     "prompt_number": 7
    },
    {
     "cell_type": "markdown",
     "metadata": {},
     "source": [
      "#### Unoptimized graph\n",
      "![unopt](https://github.com/alphacoco/pythonLearn/blob/master/DL/TheanoLearning/Tutorial/Basics/symbolic_graph_unopt.png?raw=true)"
     ]
    },
    {
     "cell_type": "markdown",
     "metadata": {},
     "source": [
      "#### Optimized graph\n",
      "![opt](https://github.com/alphacoco/pythonLearn/blob/master/DL/TheanoLearning/Tutorial/Basics/symbolic_graph_opt.png?raw=true)"
     ]
    },
    {
     "cell_type": "markdown",
     "metadata": {},
     "source": [
      "#### note:\n",
      "before we go...\n",
      "- sudo apt-get install graphviz\n",
      "- pip3 install pydot\n",
      "- pip3 install graphviz"
     ]
    },
    {
     "cell_type": "markdown",
     "metadata": {},
     "source": [
      "[see more](http://deeplearning.net/software/theano/extending/graphstructures.html#graphstructures)"
     ]
    },
    {
     "cell_type": "heading",
     "level": 2,
     "metadata": {},
     "source": [
      "ex6: Logistic Function"
     ]
    },
    {
     "cell_type": "markdown",
     "metadata": {},
     "source": [
      "###logistic1:\n",
      "$$s(x) = \\frac{1}{1+e^{-x}}$$\n",
      "![](http://deeplearning.net/software/theano/_images/logistic.png)"
     ]
    },
    {
     "cell_type": "code",
     "collapsed": false,
     "input": [
      "import theano\n",
      "import theano.tensor as T\n",
      "\n",
      "x = T.dmatrix('x')\n",
      "s = 1 / (1 + T.exp(-x))\n",
      "logistic = theano.function([x], s)\n",
      "\n",
      "logistic([[0, 1], [-1, -2]])"
     ],
     "language": "python",
     "metadata": {},
     "outputs": [
      {
       "metadata": {},
       "output_type": "pyout",
       "prompt_number": 11,
       "text": [
        "array([[ 0.5       ,  0.73105858],\n",
        "       [ 0.26894142,  0.11920292]])"
       ]
      }
     ],
     "prompt_number": 11
    },
    {
     "cell_type": "markdown",
     "metadata": {},
     "source": [
      "###logistic2:\n",
      "$$ s(x) = \\frac{1}{1 + e^{-x}} = \\frac{1 + tanh(x/2)}2$$"
     ]
    },
    {
     "cell_type": "code",
     "collapsed": false,
     "input": [
      "import theano\n",
      "import theano.tensor as T\n",
      "\n",
      "x = T.dmatrix('x')\n",
      "s2 = (1 + T.tanh(x/2)) / 2\n",
      "logistic2 = theano.function([x], s2)\n",
      "\n",
      "logistic([[0, 1], [-1, -2]])"
     ],
     "language": "python",
     "metadata": {},
     "outputs": [
      {
       "metadata": {},
       "output_type": "pyout",
       "prompt_number": 12,
       "text": [
        "array([[ 0.5       ,  0.73105858],\n",
        "       [ 0.26894142,  0.11920292]])"
       ]
      }
     ],
     "prompt_number": 12
    },
    {
     "cell_type": "markdown",
     "metadata": {},
     "source": [
      "[see more](http://deeplearning.net/software/theano/tutorial/examples.html)"
     ]
    },
    {
     "cell_type": "heading",
     "level": 2,
     "metadata": {},
     "source": [
      "ex7: Computing More than one Thing at the Same Time "
     ]
    },
    {
     "cell_type": "code",
     "collapsed": false,
     "input": [
      "import theano\n",
      "import theano.tensor as T\n",
      "\n",
      "a, b = T.dmatrices('a', 'b')\n",
      "diff = a - b\n",
      "abs_diff = abs(diff)\n",
      "f = theano.function([a, b], [diff, abs_diff])\n",
      "\n",
      "f([[1, 1], [1, 1]], [[0, 1], [2, 3]])"
     ],
     "language": "python",
     "metadata": {},
     "outputs": [
      {
       "metadata": {},
       "output_type": "pyout",
       "prompt_number": 13,
       "text": [
        "[array([[ 1.,  0.],\n",
        "       [-1., -2.]]),\n",
        " array([[ 1.,  0.],\n",
        "       [ 1.,  2.]])]"
       ]
      }
     ],
     "prompt_number": 13
    },
    {
     "cell_type": "markdown",
     "metadata": {},
     "source": [
      "[see more](http://deeplearning.net/software/theano/tutorial/examples.html)"
     ]
    },
    {
     "cell_type": "heading",
     "level": 2,
     "metadata": {},
     "source": [
      "ex8: Setting a Default Value for an Argument"
     ]
    },
    {
     "cell_type": "code",
     "collapsed": false,
     "input": [
      "import theano\n",
      "from theano import In\n",
      "import theano.tensor as T\n",
      "\n",
      "x, y, z = T.dscalars('x', 'y', 'z')\n",
      "w = (x + y) * z\n",
      "f = theano.function([x, In(y, value = 1), In(z, value = 2, name = 'z_by_name')], w)\n",
      "\n",
      "print('x = 3: ',f(3))\n",
      "print('x = 3, y = 2: ', f(3, 2))\n",
      "print('x = 3, y =0, z = 1: ', f(3, 0, 1))\n",
      "print()\n",
      "print('x = 3, z = 1: ', f(3, z_by_name = 1))\n",
      "print('x = 3, y = 0, z = 1: ',f(3, z_by_name = 1, y = 0))"
     ],
     "language": "python",
     "metadata": {},
     "outputs": [
      {
       "output_type": "stream",
       "stream": "stdout",
       "text": [
        "x = 3:  8.0\n",
        "x = 3, y = 2:  10.0\n",
        "x = 3, y =0, z = 1:  3.0\n",
        "\n",
        "x = 3, z = 1:  4.0\n",
        "x = 3, y = 0, z = 1:  3.0\n"
       ]
      }
     ],
     "prompt_number": 25
    },
    {
     "cell_type": "markdown",
     "metadata": {},
     "source": [
      "[see more](http://deeplearning.net/software/theano/tutorial/examples.html)"
     ]
    },
    {
     "cell_type": "heading",
     "level": 2,
     "metadata": {},
     "source": [
      "ex9: Using Shared Variables"
     ]
    },
    {
     "cell_type": "code",
     "collapsed": false,
     "input": [
      "# It adds its argument to the internal state, and returns the old state value.\n",
      "\n",
      "import theano\n",
      "import theano.tensor as T\n",
      "from theano import shared\n",
      "\n",
      "state = shared(0)\n",
      "inc = T.iscalar('inc')\n",
      "accumulator = theano.function([inc], state, updates = [(state, state + inc)])\n",
      "\n",
      "print('init state: ', state.get_value())\n",
      "print('old state: ', accumulator(1))\n",
      "print('after add 1: ', state.get_value())\n",
      "print('old state: ', accumulator(100))\n",
      "print('after add 100: ', state.get_value())\n",
      "print()\n",
      "\n",
      "state.set_value(-1)\n",
      "print('reset the state: ', accumulator(3))\n",
      "print('after add 3: ', state.get_value())\n",
      "print()\n",
      "\n",
      "decrementor = theano.function([inc], state, updates = [(state, state - inc)])\n",
      "print('old state: ', decrementor(2))\n",
      "print('after minus 2: ', state.get_value())\n",
      "print()\n",
      "\n",
      "fn_of_state = state * 2 + inc\n",
      "foo = T.scalar(dtype = state.dtype) # the state of foo must match the shared variable we are replacing with the `givens`\n",
      "skip_shared = theano.function([inc, foo], fn_of_state, givens = [(state, foo)])\n",
      "print('fn_of_state: ', skip_shared(1, 3))\n",
      "print('state value: ', state.get_value())         # old state still there, but we didn't use it"
     ],
     "language": "python",
     "metadata": {},
     "outputs": [
      {
       "output_type": "stream",
       "stream": "stdout",
       "text": [
        "init state:  0\n",
        "old state:  0\n",
        "after add 1:  1\n",
        "old state:  1\n",
        "after add 100:  101\n",
        "\n",
        "reset the state:  -1\n",
        "after add 3:  2\n",
        "\n",
        "old state:  2\n",
        "after minus 2:  0\n",
        "\n",
        "fn_of_state:  7\n",
        "state value:  0\n"
       ]
      }
     ],
     "prompt_number": 61
    },
    {
     "cell_type": "markdown",
     "metadata": {},
     "source": [
      "#### accumulator\n",
      "![](https://github.com/alphacoco/pythonLearn/blob/master/DL/TheanoLearning/Tutorial/Basics/accumulator.png?raw=true)"
     ]
    },
    {
     "cell_type": "markdown",
     "metadata": {},
     "source": [
      "#### decrementor\n",
      "![](https://github.com/alphacoco/pythonLearn/blob/master/DL/TheanoLearning/Tutorial/Basics/decrementor.png?raw=true)"
     ]
    },
    {
     "cell_type": "markdown",
     "metadata": {},
     "source": [
      "#### skip_shared\n",
      "![](https://github.com/alphacoco/pythonLearn/blob/master/DL/TheanoLearning/Tutorial/Basics/skip_shared.png?raw=true)"
     ]
    },
    {
     "cell_type": "markdown",
     "metadata": {},
     "source": [
      "[see more](http://deeplearning.net/software/theano/tutorial/examples.html)"
     ]
    },
    {
     "cell_type": "heading",
     "level": 2,
     "metadata": {},
     "source": [
      "ex10: Copying funcion"
     ]
    },
    {
     "cell_type": "code",
     "collapsed": false,
     "input": [
      "import theano\n",
      "import theano.tensor as T\n",
      "\n",
      "# create a accumulator function\n",
      "state = theano.shared(0)\n",
      "inc = T.iscalar('inc')\n",
      "accumulator = theano.function([inc], state, updates = [(state, state + inc)], on_unused_input = 'ignore')\n",
      "\n",
      "print('init state: ', accumulator(10))\n",
      "print('after add 10, state: ', state.get_value())\n",
      "print()\n",
      "\n",
      "# create a similar accumulator but with its own internal state.\n",
      "new_state = theano.shared(0)\n",
      "new_accumulator = accumulator.copy(swap = {state: new_state})\n",
      "print('init new_state: ', new_accumulator(100))\n",
      "print('after add 100, new_state: ', new_state.get_value())\n",
      "print('after new_state add 100, state: ', state.get_value())\n",
      "print()\n",
      "\n",
      "# create a copy with updates removed.\n",
      "null_accumulator = accumulator.copy(delete_updates = True)\n",
      "print('old state: ', null_accumulator(1000))\n",
      "print('after add 1000, state: ', state.get_value())\n"
     ],
     "language": "python",
     "metadata": {},
     "outputs": [
      {
       "output_type": "stream",
       "stream": "stdout",
       "text": [
        "init state:  0\n",
        "after add 10, state:  10\n",
        "\n",
        "init new_state:  [array(0)]\n",
        "after add 100, new_state:  100\n",
        "after new_state add 100, state:  10\n",
        "\n",
        "old state:  [array(10)]\n",
        "after add 1000, state:  10\n"
       ]
      }
     ],
     "prompt_number": 85
    },
    {
     "cell_type": "markdown",
     "metadata": {},
     "source": [
      "[see more](http://deeplearning.net/software/theano/tutorial/examples.html)"
     ]
    },
    {
     "cell_type": "heading",
     "level": 2,
     "metadata": {},
     "source": [
      "ex11: Using Random Numbers"
     ]
    },
    {
     "cell_type": "code",
     "collapsed": false,
     "input": [
      "import theano\n",
      "from theano.tensor.shared_randomstreams import RandomStreams\n",
      "\n",
      "srng = RandomStreams(seed = 234)\n",
      "rv_u = srng.uniform((2, 2))      # rv_u : Random Variable Uniform\n",
      "rv_n = srng.normal((2, 2))       # rv_n : Random Variable Normal\n",
      "f = theano.function([], rv_u)\n",
      "g = theano.function([], rv_n, no_default_updates = True)        # Not updating rv_n.rng\n",
      "nearly_zeros = theano.function([], rv_u + rv_u - 2 * rv_u)\n",
      "\n",
      "f_val0 = f()\n",
      "f_val1 = f()\n",
      "print('f_val0 and f_val1 are different: ')\n",
      "print(f_val0, '\\n')\n",
      "print(f_val1, '\\n')\n",
      "\n",
      "g_val0 = g()\n",
      "g_val1 = g()\n",
      "print('g_val0 and g_val1 are the same: ')\n",
      "print(g_val0, '\\n')\n",
      "print(g_val1)\n",
      "\n",
      "nearly_zeros()"
     ],
     "language": "python",
     "metadata": {},
     "outputs": [
      {
       "output_type": "stream",
       "stream": "stdout",
       "text": [
        "The output file is available at ./pics/0.png\n",
        "f_val0 and f_val1 are different: \n",
        "[[ 0.12672381  0.97091597]\n",
        " [ 0.13989098  0.88754825]] \n",
        "\n",
        "[[ 0.31971415  0.47584377]\n",
        " [ 0.24129163  0.42046081]] \n",
        "\n",
        "g_val0 and g_val1 are the same: \n",
        "[[ 0.37328447 -0.65746672]\n",
        " [-0.36302373 -0.97484625]] \n",
        "\n",
        "[[ 0.37328447 -0.65746672]\n",
        " [-0.36302373 -0.97484625]]\n"
       ]
      },
      {
       "metadata": {},
       "output_type": "pyout",
       "prompt_number": 112,
       "text": [
        "array([[ 0.,  0.],\n",
        "       [ 0.,  0.]])"
       ]
      }
     ],
     "prompt_number": 112
    },
    {
     "cell_type": "markdown",
     "metadata": {},
     "source": [
      "#### random variable uniform(f)\n",
      "![](https://github.com/alphacoco/pythonLearn/blob/master/DL/TheanoLearning/Tutorial/Basics/rv_u.png?raw=true)"
     ]
    },
    {
     "cell_type": "markdown",
     "metadata": {},
     "source": [
      "#### random variable normal(g)\n",
      "![](https://github.com/alphacoco/pythonLearn/blob/master/DL/TheanoLearning/Tutorial/Basics/rv_n.png?raw=true)"
     ]
    },
    {
     "cell_type": "markdown",
     "metadata": {},
     "source": [
      "#### nearly zeros function\n",
      "![](https://github.com/alphacoco/pythonLearn/blob/master/DL/TheanoLearning/Tutorial/Basics/nearly_zeros.png?raw=true)"
     ]
    },
    {
     "cell_type": "markdown",
     "metadata": {},
     "source": [
      "#### note:\n",
      "- An important remark is that a random variable is drawn at most once during any single function execution. So the nearly_zeros function is guaranteed to return approximately 0(except for rounding error) even though the rv_u random variable appears 3 times in the output expression."
     ]
    },
    {
     "cell_type": "heading",
     "level": 2,
     "metadata": {},
     "source": [
      "ex12: Conditins"
     ]
    },
    {
     "cell_type": "code",
     "collapsed": false,
     "input": [
      "import theano\n",
      "import theano.tensor as T\n",
      "from theano.ifelse import ifelse\n",
      "\n",
      "a, b, x, y = T.scalars('a', 'b', 'x', 'y')\n",
      "\n",
      "# ifelse\n",
      "z = ifelse(T.lt(a, b), x, y)          # T.lt : less than(<)\n",
      "f = theano.function([a, b, x, y], z)\n",
      "\n",
      "# switch\n",
      "w = T.switch(T.lt(a, b), x, y)\n",
      "g = theano.function([a, b, x, y], w)\n",
      "\n",
      "print('ifelse: ', f(1, 2, 3, 4))\n",
      "print('switch: ', g(1, 2, 3, 4))"
     ],
     "language": "python",
     "metadata": {},
     "outputs": [
      {
       "output_type": "stream",
       "stream": "stdout",
       "text": [
        "ifelse:  3.0\n",
        "switch:  3.0\n"
       ]
      }
     ],
     "prompt_number": 146
    },
    {
     "cell_type": "markdown",
     "metadata": {},
     "source": [
      "#### ifelse-z\n",
      "![](https://github.com/alphacoco/pythonLearn/blob/master/DL/TheanoLearning/Tutorial/Basics/ifelse-z.png?raw=true)"
     ]
    },
    {
     "cell_type": "markdown",
     "metadata": {},
     "source": [
      "#### ifelse-f\n",
      "![](https://github.com/alphacoco/pythonLearn/blob/master/DL/TheanoLearning/Tutorial/Basics/ifelse-f.png?raw=true)"
     ]
    },
    {
     "cell_type": "markdown",
     "metadata": {},
     "source": [
      "#### switch-w\n",
      "![](https://github.com/alphacoco/pythonLearn/blob/master/DL/TheanoLearning/Tutorial/Basics/switch-w.png?raw=true)"
     ]
    },
    {
     "cell_type": "markdown",
     "metadata": {},
     "source": [
      "#### switch-g\n",
      "![](https://github.com/alphacoco/pythonLearn/blob/master/DL/TheanoLearning/Tutorial/Basics/switch-g.png?raw=true)"
     ]
    },
    {
     "cell_type": "markdown",
     "metadata": {},
     "source": [
      "#### note:\n",
      "- `ifelse` takes a boolean condition and two variables as inputs.\n",
      "- `switch` takes a tensor as condition and two variables as inputs. `switch` is an elementwise operation.\n",
      "- Whereas `switch` evaluates both output variables, `ifelse` is lazy and only evaluates one variable with respect to the condition. "
     ]
    },
    {
     "cell_type": "code",
     "collapsed": false,
     "input": [],
     "language": "python",
     "metadata": {},
     "outputs": []
    }
   ],
   "metadata": {}
  }
 ]
}